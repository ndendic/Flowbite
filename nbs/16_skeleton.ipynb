{
 "cells": [
  {
   "cell_type": "code",
   "execution_count": 1,
   "metadata": {},
   "outputs": [],
   "source": [
    "#| default_exp skeleton"
   ]
  },
  {
   "cell_type": "code",
   "execution_count": 2,
   "metadata": {},
   "outputs": [],
   "source": [
    "#| export\n",
    "import fasthtml.common as fh\n",
    "from fasthtml.common import FT\n",
    "from fastcore.all import *\n",
    "from fastbite.core import *\n",
    "from fastbite.base import *"
   ]
  },
  {
   "cell_type": "code",
   "execution_count": 3,
   "metadata": {},
   "outputs": [],
   "source": [
    "#| export\n",
    "class PlaceholderT(VEnum):\n",
    "    dashed=\"p-4 border-2 border-gray-200 border-dashed rounded-lg dark:border-gray-700\"\n",
    "    gray=\"p-4 flex items-center justify-center rounded-sm bg-gray-50 dark:bg-gray-800\"\n",
    "\n",
    "def Placeholder(*c, # Components to put in the placeholder\n",
    "                  cls=PlaceholderT.dashed, # Additional classes on the placeholder\n",
    "                  **kwargs # Additional args for `Div` tag\n",
    "                  )->FT: # Div(..., cls='uk-placeholder')\n",
    "    \"Creates a placeholder\"\n",
    "    return fh.Div(*c, cls=stringify(cls), **kwargs)"
   ]
  },
  {
   "cell_type": "code",
   "execution_count": 4,
   "metadata": {},
   "outputs": [],
   "source": [
    "#| hide\n",
    "import nbdev; nbdev.nbdev_export()"
   ]
  }
 ],
 "metadata": {
  "kernelspec": {
   "display_name": ".venv",
   "language": "python",
   "name": "python3"
  },
  "language_info": {
   "codemirror_mode": {
    "name": "ipython",
    "version": 3
   },
   "file_extension": ".py",
   "mimetype": "text/x-python",
   "name": "python",
   "nbconvert_exporter": "python",
   "pygments_lexer": "ipython3",
   "version": "3.12.7"
  }
 },
 "nbformat": 4,
 "nbformat_minor": 2
}

{
 "cells": [
  {
   "cell_type": "code",
   "execution_count": 1,
   "metadata": {},
   "outputs": [],
   "source": [
    "#| default_exp upload"
   ]
  },
  {
   "cell_type": "code",
   "execution_count": 2,
   "metadata": {},
   "outputs": [],
   "source": [
    "#| export\n",
    "import fasthtml.common as fh\n",
    "from fasthtml.common import FT\n",
    "from fastcore.all import *\n",
    "from fastbite.core import *\n",
    "from fastbite.base import *\n",
    "from fastbite.forms import *\n",
    "from fastbite.media import *"
   ]
  },
  {
   "cell_type": "code",
   "execution_count": 3,
   "metadata": {},
   "outputs": [],
   "source": [
    "#| export\n",
    "#| export\n",
    "def Upload(label:str|FT = None, # Contents of Upload tag button (often text)\n",
    "          help_text:str|FT = None, # Help text for the input\n",
    "          cls=\"mb-5\", # Classes in addition to Upload styling\n",
    "          lbl_cls='block mb-2 text-sm font-medium text-gray-900 dark:text-white', # Classes for the label\n",
    "          multiple=False, # Whether to allow multiple file selection\n",
    "          accept=None, # File types to accept (e.g. 'image/*')\n",
    "          button_cls='block w-full text-sm text-gray-900 border border-gray-300 rounded-lg cursor-pointer bg-gray-50 dark:text-gray-400 focus:outline-none dark:bg-gray-700 dark:border-gray-600 dark:placeholder-gray-400', # Classes for the button\n",
    "          id='file_input', # ID for the file input\n",
    "          name=None, # Name for the file input\n",
    "          **kwargs # Additional args for the outer div\n",
    "          )->FT: # Div(Input(type='file'), Button(...))\n",
    "    \"A file upload component with default styling\"\n",
    "    input_kwargs = {'type': 'file', 'multiple': multiple}\n",
    "    if accept: input_kwargs['accept'] = accept\n",
    "    if id: input_kwargs['id'] = id\n",
    "    if name: input_kwargs['name'] = name\n",
    "    return Div(cls=cls)(\n",
    "        FormLabel(label, fr=id, cls=(lbl_cls,'block mb-2')),\n",
    "        fh.Input(aria_describedby=f'{id}_help', cls=button_cls,**input_kwargs),\n",
    "        P(help_text, id=f'{id}_help', cls='mt-1 text-sm text-gray-500 dark:text-gray-300')\n",
    "    )\n",
    "\n",
    "\n",
    "def UploadZone(label:str|FT = None, # Contents of Upload tag button (often text)\n",
    "          help_text:str|FT = None, # Help text for the input\n",
    "          cls=\"mb-5\", # Classes in addition to Upload styling\n",
    "          lbl_cls=TextT.sm, # Classes for the label\n",
    "          multiple=False, # Whether to allow multiple file selection\n",
    "          accept=None, # File types to accept (e.g. 'image/*')\n",
    "          button_cls='block w-full text-sm text-gray-900 border border-gray-300 rounded-lg cursor-pointer bg-gray-50 dark:text-gray-400 focus:outline-none dark:bg-gray-700 dark:border-gray-600 dark:placeholder-gray-400', # Classes for the button\n",
    "          id='file_input', # ID for the file input\n",
    "          name=None, # Name for the file input\n",
    "          **kwargs # Additional args for the outer div\n",
    "          )->FT: # Div(Input(type='file'), Button(...))\n",
    "    \"A file upload component with default styling\"\n",
    "    input_kwargs = {'type': 'file', 'multiple': multiple}\n",
    "    if accept: input_kwargs['accept'] = accept\n",
    "    if id: input_kwargs['id'] = id\n",
    "    if name: input_kwargs['name'] = name\n",
    "    return Div(\n",
    "            FormLabel(\n",
    "                Div(\n",
    "                    \n",
    "                    Icon(\"cloud-upload\",cls='w-8 h-8 mb-4 text-gray-500 dark:text-gray-400'),\n",
    "                    P(label,cls=(lbl_cls,'mb-2')),\n",
    "                    P(help_text, cls='text-xs text-gray-500 dark:text-gray-400'),\n",
    "                    cls='flex flex-col items-center justify-center pt-5 pb-6'\n",
    "                ),\n",
    "                Input(id=id, type='file', cls='hidden'),fr=id,\n",
    "                cls='flex flex-col items-center justify-center w-full h-64 border-2 border-gray-300 border-dashed rounded-lg cursor-pointer bg-gray-50 dark:hover:bg-gray-800 dark:bg-gray-700 hover:bg-gray-100 dark:border-gray-600 dark:hover:border-gray-500 dark:hover:bg-gray-600'\n",
    "            ),\n",
    "            cls='flex items-center justify-center w-full'\n",
    "        )"
   ]
  },
  {
   "cell_type": "code",
   "execution_count": 4,
   "metadata": {},
   "outputs": [],
   "source": [
    "#| hide\n",
    "import nbdev; nbdev.nbdev_export()"
   ]
  }
 ],
 "metadata": {
  "kernelspec": {
   "display_name": ".venv",
   "language": "python",
   "name": "python3"
  },
  "language_info": {
   "codemirror_mode": {
    "name": "ipython",
    "version": 3
   },
   "file_extension": ".py",
   "mimetype": "text/x-python",
   "name": "python",
   "nbconvert_exporter": "python",
   "pygments_lexer": "ipython3",
   "version": "3.12.7"
  }
 },
 "nbformat": 4,
 "nbformat_minor": 2
}

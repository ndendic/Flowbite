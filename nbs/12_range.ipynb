{
 "cells": [
  {
   "cell_type": "code",
   "execution_count": 9,
   "metadata": {},
   "outputs": [],
   "source": [
    "#| default_exp components/ranges"
   ]
  },
  {
   "cell_type": "code",
   "execution_count": 10,
   "metadata": {},
   "outputs": [],
   "source": [
    "#| export\n",
    "import fasthtml.common as fh\n",
    "from fasthtml.common import FT\n",
    "from fastcore.all import *\n",
    "from fastbite.core import *\n",
    "from fastbite.components.base import *\n",
    "from fastbite.components.base_styles import *\n",
    "from fastbite.components.forms import *\n",
    "from fastbite.components.containers import *"
   ]
  },
  {
   "cell_type": "code",
   "execution_count": 11,
   "metadata": {},
   "outputs": [],
   "source": [
    "#| export\n",
    "#| export\n",
    "class RangeT(VEnum):\n",
    "    default = 'w-full h-2 bg-gray-200 rounded-lg appearance-none cursor-pointer dark:bg-gray-700'\n",
    "    sm = 'w-full h-1 mb-6 bg-gray-200 rounded-lg appearance-none cursor-pointer range-sm dark:bg-gray-700'\n",
    "    lg = 'w-full h-3 bg-gray-200 rounded-lg appearance-none cursor-pointer range-lg dark:bg-gray-700'\n",
    "\n",
    "def Range(*c, # contents of Range tag (often nothing)\n",
    "          value='', # Value of the range\n",
    "          label='', # Label of the range\n",
    "          help_labels=None, # Help labels of the range\n",
    "          id='default-range', # ID of the range\n",
    "          min=None, # Minimum value of the range\n",
    "          max=None, # Maximum value of the range\n",
    "          step=None, # Step value of the range\n",
    "          cls=RangeT.default, # Classes in addition to Range styling\n",
    "          div_cls='mb-5', # Classes on container (default is `'space-y-2'` to prevent scrunched up form elements)\n",
    "          **kwargs # Additional args for Range tag\n",
    "           )->FT: \n",
    "    \"A Range with default styling\"\n",
    "    return Div(cls=div_cls)(\n",
    "            FormLabel(label, fr=id, cls='block mb-2 text-sm font-medium text-gray-900 dark:text-white'),\n",
    "            fh.Input(*c, id=id, type='range',  value=value, min=min, max=max, step=step, cls=stringify(cls), **kwargs),\n",
    "            DivFullySpaced(*[Span(l, cls='text-sm text-gray-500 dark:text-gray-400') for l in help_labels]) if help_labels else None\n",
    "        )   \n"
   ]
  },
  {
   "cell_type": "code",
   "execution_count": 12,
   "metadata": {},
   "outputs": [],
   "source": [
    "#| hide\n",
    "import nbdev; nbdev.nbdev_export()"
   ]
  }
 ],
 "metadata": {
  "kernelspec": {
   "display_name": ".venv",
   "language": "python",
   "name": "python3"
  },
  "language_info": {
   "codemirror_mode": {
    "name": "ipython",
    "version": 3
   },
   "file_extension": ".py",
   "mimetype": "text/x-python",
   "name": "python",
   "nbconvert_exporter": "python",
   "pygments_lexer": "ipython3",
   "version": "3.12.7"
  }
 },
 "nbformat": 4,
 "nbformat_minor": 2
}

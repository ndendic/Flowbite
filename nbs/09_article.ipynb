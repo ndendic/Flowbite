{
 "cells": [
  {
   "cell_type": "code",
   "execution_count": 5,
   "metadata": {},
   "outputs": [],
   "source": [
    "#| default_exp article"
   ]
  },
  {
   "cell_type": "code",
   "execution_count": 6,
   "metadata": {},
   "outputs": [],
   "source": [
    "#| export\n",
    "from enum import Enum\n",
    "import fasthtml.common as fh\n",
    "from fasthtml.common import FT\n",
    "from fastcore.all import *\n",
    "from fastbite.core import *\n",
    "from fastbite.base import *"
   ]
  },
  {
   "cell_type": "code",
   "execution_count": 7,
   "metadata": {},
   "outputs": [],
   "source": [
    "#| export\n",
    "#| export\n",
    "def Article(*c, # contents of Article tag (often other tags)\n",
    "            cls=(), # Classes in addition to Article styling\n",
    "            **kwargs # Additional args for Article tag\n",
    "            )->FT: # Article(..., cls='uk-article')\n",
    "    \"A styled article container for blog posts or similar content\"\n",
    "    return fh.Article(*c, cls=(TextT.article,stringify(cls)), **kwargs)\n",
    "\n",
    "def ArticleTitle(*c, # contents of ArticleTitle tag (often other tags)\n",
    "                 cls=(), # Classes in addition to ArticleTitle styling\n",
    "                 **kwargs # Additional args for ArticleTitle tag\n",
    "                 )->FT: # H1(..., cls='uk-article-title')\n",
    "    \"A title component for use within an Article\"\n",
    "    return H1(*c, cls=(TextT.article,stringify(cls)), **kwargs)\n",
    "\n",
    "def ArticleMeta(*c, # contents of ArticleMeta tag (often other tags)\n",
    "                cls=(), # Classes in addition to ArticleMeta styling\n",
    "                **kwargs # Additional args for ArticleMeta tag\n",
    "                )->FT: # P(..., cls='uk-article-meta')\n",
    "    \"A metadata component for use within an Article showing things like date, author etc\"\n",
    "    return P(*c, cls=('text-base text-gray-500 dark:text-gray-400',stringify(cls)), **kwargs)\n",
    "\n"
   ]
  },
  {
   "cell_type": "code",
   "execution_count": 8,
   "metadata": {},
   "outputs": [],
   "source": [
    "#| hide\n",
    "import nbdev; nbdev.nbdev_export()"
   ]
  }
 ],
 "metadata": {
  "kernelspec": {
   "display_name": ".venv",
   "language": "python",
   "name": "python3"
  },
  "language_info": {
   "codemirror_mode": {
    "name": "ipython",
    "version": 3
   },
   "file_extension": ".py",
   "mimetype": "text/x-python",
   "name": "python",
   "nbconvert_exporter": "python",
   "pygments_lexer": "ipython3",
   "version": "3.12.7"
  }
 },
 "nbformat": 4,
 "nbformat_minor": 2
}

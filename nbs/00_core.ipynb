{
 "cells": [
  {
   "cell_type": "markdown",
   "metadata": {},
   "source": [
    "# core\n",
    "\n",
    "> Fill in a module description here"
   ]
  },
  {
   "cell_type": "code",
   "execution_count": 2,
   "metadata": {},
   "outputs": [],
   "source": [
    "#| default_exp core"
   ]
  },
  {
   "cell_type": "code",
   "execution_count": 3,
   "metadata": {},
   "outputs": [],
   "source": [
    "#| hide\n",
    "#| export\n",
    "from enum import Enum, auto\n",
    "from fastcore.all import *"
   ]
  },
  {
   "cell_type": "code",
   "execution_count": 5,
   "metadata": {},
   "outputs": [],
   "source": [
    "#| hide\n",
    "from nbdev.showdoc import show_doc\n",
    "show_doc = partial(show_doc, title_level=4)"
   ]
  },
  {
   "cell_type": "code",
   "execution_count": 6,
   "metadata": {},
   "outputs": [],
   "source": [
    "#| export\n",
    "# need a better name, stringify might be too general for what it does \n",
    "def stringify(o # String, Tuple, or Enum options we want stringified\n",
    "             ): # String that can be passed FT comp args (such as `cls=`)\n",
    "    \"Converts input types into strings that can be passed to FT components\"  \n",
    "    if is_listy(o): return ' '.join(map(str,o)) if o else \"\"\n",
    "    return o.__str__()\n",
    "\n",
    "def str2cls(base: str, txt: str) -> str:\n",
    "    \"\"\"Convert base and text into a class name\"\"\"\n",
    "    return f\"{base}-{txt.replace('_', '-')}\".strip('-')"
   ]
  },
  {
   "cell_type": "code",
   "execution_count": 7,
   "metadata": {},
   "outputs": [],
   "source": [
    "assert stringify('abc') == 'abc'\n",
    "assert stringify(('abc','def')) == 'abc def'\n",
    "assert 'bg-blue-500' + stringify(()) == 'bg-blue-500'\n",
    "assert 'bg-blue-500 ' + stringify(\"\") == 'bg-blue-500 '"
   ]
  },
  {
   "cell_type": "code",
   "execution_count": 8,
   "metadata": {},
   "outputs": [],
   "source": [
    "#| export\n",
    "class VEnum(Enum):\n",
    "    def __str__(self): return self.value\n",
    "    def __add__(self, other): return stringify((self,other))\n",
    "    def __radd__(self, other): return stringify((other,self))"
   ]
  },
  {
   "cell_type": "code",
   "execution_count": 9,
   "metadata": {},
   "outputs": [],
   "source": [
    "#| hide\n",
    "import nbdev; nbdev.nbdev_export()"
   ]
  }
 ],
 "metadata": {
  "kernelspec": {
   "display_name": ".venv",
   "language": "python",
   "name": "python3"
  },
  "language_info": {
   "codemirror_mode": {
    "name": "ipython",
    "version": 3
   },
   "file_extension": ".py",
   "mimetype": "text/x-python",
   "name": "python",
   "nbconvert_exporter": "python",
   "pygments_lexer": "ipython3",
   "version": "3.12.7"
  }
 },
 "nbformat": 4,
 "nbformat_minor": 4
}

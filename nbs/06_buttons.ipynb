{
 "cells": [
  {
   "cell_type": "code",
   "execution_count": null,
   "metadata": {},
   "outputs": [],
   "source": [
    "#| default_exp buttons"
   ]
  },
  {
   "cell_type": "code",
   "execution_count": null,
   "metadata": {},
   "outputs": [],
   "source": [
    "#| export\n",
    "from enum import Enum\n",
    "import fasthtml.common as fh\n",
    "from fasthtml.common import FT\n",
    "from fastcore.all import *\n",
    "from fastbite.core import *\n",
    "from fastbite.base import *\n",
    "from fastbite.base_styles import *"
   ]
  },
  {
   "cell_type": "code",
   "execution_count": null,
   "metadata": {},
   "outputs": [],
   "source": [
    "#| export\n",
    "class BgColor(VEnum):\n",
    "    \"\"\"Button style variants for Flowbite components\"\"\"\n",
    "    # Base styles\n",
    "    primary = \"bg-primary-700 hover:bg-primary-800 dark:bg-primary-600 dark:hover:bg-primary-700  text-white focus:ring-primary-300 dark:focus:ring-primary-800\"\n",
    "    blue = \"bg-blue-700 hover:bg-blue-800 dark:bg-blue-600 dark:hover:bg-blue-700 dark:focus:ring-blue-800 text-white focus:ring-blue-300\"\n",
    "    green = \"bg-green-700 hover:bg-green-800 dark:bg-green-600 dark:hover:bg-green-700 dark:focus:ring-green-800 text-white focus:ring-green-300\"\n",
    "    cyan = \"bg-cyan-700 hover:bg-cyan-800 dark:bg-cyan-600 dark:hover:bg-cyan-700 dark:focus:ring-cyan-800 text-white focus:ring-cyan-300\"\n",
    "    teal = \"bg-teal-700 hover:bg-teal-800 dark:bg-teal-600 dark:hover:bg-teal-700 dark:focus:ring-teal-800 text-white focus:ring-teal-300\"\n",
    "    lime = \"bg-lime-700 hover:bg-lime-800 dark:bg-lime-600 dark:hover:bg-lime-700 dark:focus:ring-lime-800 text-white focus:ring-lime-300\"\n",
    "    red = \"bg-red-700 hover:bg-red-800 dark:bg-red-600 dark:hover:bg-red-700 dark:focus:ring-red-900 text-white focus:ring-red-300\"\n",
    "    yellow = \"bg-yellow-400 hover:bg-yellow-500 dark:focus:ring-yellow-900 text-white focus:ring-yellow-300\"\n",
    "    pink = \"bg-pink-700 hover:bg-pink-800 dark:bg-pink-600 dark:hover:bg-pink-700 dark:focus:ring-pink-900 text-white focus:ring-pink-300\"\n",
    "    purple = \"bg-purple-700 hover:bg-purple-800 dark:bg-purple-600 dark:hover:bg-purple-700 dark:focus:ring-purple-900 text-white focus:ring-purple-300\"\n",
    "    \n",
    "    grad_primary = \"text-white bg-gradient-to-r from-primary-500 via-primary-600 to-primary-700 hover:bg-gradient-to-br focus:ring-4 focus:outline-none focus:ring-primary-300 dark:focus:ring-primary-800\"\n",
    "    grad_blue = \"text-white bg-gradient-to-r from-blue-500 via-blue-600 to-blue-700 hover:bg-gradient-to-br focus:ring-4 focus:outline-none focus:ring-blue-300 dark:focus:ring-blue-800\"\n",
    "    grad_green = \"text-white bg-gradient-to-r from-green-500 via-green-600 to-green-700 hover:bg-gradient-to-br focus:ring-4 focus:outline-none focus:ring-green-300 dark:focus:ring-green-800\"\n",
    "    grad_cyan = \"text-white bg-gradient-to-r from-cyan-500 via-cyan-600 to-cyan-700 hover:bg-gradient-to-br focus:ring-4 focus:outline-none focus:ring-cyan-300 dark:focus:ring-cyan-800\"\n",
    "    grad_teal = \"text-white bg-gradient-to-r from-teal-500 via-teal-600 to-teal-700 hover:bg-gradient-to-br focus:ring-4 focus:outline-none focus:ring-teal-300 dark:focus:ring-teal-800\"\n",
    "    grad_lime = \"text-white bg-gradient-to-r from-lime-500 via-lime-600 to-lime-700 hover:bg-gradient-to-br focus:ring-4 focus:outline-none focus:ring-lime-300 dark:focus:ring-lime-800\"\n",
    "    grad_red = \"text-white bg-gradient-to-r from-red-500 via-red-600 to-red-700 hover:bg-gradient-to-br focus:ring-4 focus:outline-none focus:ring-red-300 dark:focus:ring-red-800\"\n",
    "    grad_yellow = \"text-white bg-gradient-to-r from-yellow-500 via-yellow-600 to-yellow-700 hover:bg-gradient-to-br focus:ring-4 focus:outline-none focus:ring-yellow-300 dark:focus:ring-yellow-800\"\n",
    "    grad_pink = \"text-white bg-gradient-to-r from-pink-500 via-pink-600 to-pink-700 hover:bg-gradient-to-br focus:ring-4 focus:outline-none focus:ring-pink-300 dark:focus:ring-pink-800\"\n",
    "    grad_purple = \"text-white bg-gradient-to-r from-purple-500 via-purple-600 to-purple-700 hover:bg-gradient-to-br focus:ring-4 focus:outline-none focus:ring-purple-300 dark:focus:ring-purple-800\"\n",
    "    #Duotone\n",
    "    purple_blue = \"text-white bg-gradient-to-br from-purple-600 to-blue-500 hover:bg-gradient-to-bl focus:ring-4 focus:outline-none focus:ring-blue-300 dark:focus:ring-blue-800\"\n",
    "    cyan_blue = \"text-white bg-gradient-to-r from-cyan-500 to-blue-500 hover:bg-gradient-to-bl focus:ring-4 focus:outline-none focus:ring-cyan-300 dark:focus:ring-cyan-800\"\n",
    "    green_blue = \"text-white bg-gradient-to-br from-green-400 to-blue-600 hover:bg-gradient-to-bl focus:ring-4 focus:outline-none focus:ring-green-200 dark:focus:ring-green-800\"\n",
    "    purple_pink = \"text-white bg-gradient-to-r from-purple-500 to-pink-500 hover:bg-gradient-to-l focus:ring-4 focus:outline-none focus:ring-purple-200 dark:focus:ring-purple-800\"\n",
    "    pink_orange = \"text-white bg-gradient-to-br from-pink-500 to-orange-400 hover:bg-gradient-to-bl focus:ring-4 focus:outline-none focus:ring-pink-200 dark:focus:ring-pink-800\"\n",
    "    teal_lime = \"text-gray-900 bg-gradient-to-r from-teal-200 to-lime-200 hover:bg-gradient-to-l hover:from-teal-200 hover:to-lime-200 focus:ring-4 focus:outline-none focus:ring-lime-200 dark:focus:ring-teal-700\"\n",
    "    red_yellow = \"text-gray-900 bg-gradient-to-r from-red-200 via-red-300 to-yellow-200 hover:bg-gradient-to-bl focus:ring-4 focus:outline-none focus:ring-red-100 dark:focus:ring-red-400\"\n",
    "\n",
    "class ButtonSize(VEnum):\n",
    "    \"\"\"Button size variants\"\"\"\n",
    "    xs = \"px-3 py-2 text-xs font-medium\"\n",
    "    sm = \"px-3 py-2 text-sm font-medium\"\n",
    "    base = \"px-5 py-2.5 text-sm font-medium\"\n",
    "    lg = \"px-5 py-3 text-base font-medium\"\n",
    "    xl = \"px-6 py-3.5 text-base font-medium\"\n",
    "    \n",
    "class ButtonOutline(VEnum):\n",
    "    \"\"\"Button outline variants\"\"\"\n",
    "    default = \"border border-blue-700 hover:bg-blue-800 dark:border-blue-500 dark:hover:bg-blue-500 text-blue-700 hover:text-white dark:text-blue-500 dark:hover:text-white focus:ring-blue-300 dark:focus:ring-blue-800\"\n",
    "    dark = \"border border-gray-800 hover:bg-gray-900 dark:border-gray-600 dark:hover:bg-gray-600 text-gray-900 hover:text-white dark:text-gray-400 dark:hover:text-white focus:ring-gray-300 dark:focus:ring-gray-800\"\n",
    "    green = \"border border-green-700 hover:bg-green-800 dark:border-green-500 dark:hover:bg-green-600 text-green-700 hover:text-white dark:text-green-500 dark:hover:text-white focus:ring-green-300 dark:focus:ring-green-800\"\n",
    "    red = \"border border-red-700 hover:bg-red-800 dark:border-red-500 dark:hover:bg-red-600 text-red-700 hover:text-white dark:text-red-500 dark:hover:text-white focus:ring-red-300 dark:focus:ring-red-900\"\n",
    "    yellow = \"border border-yellow-400 hover:bg-yellow-500 dark:border-yellow-300 dark:hover:bg-yellow-400 text-yellow-400 hover:text-white dark:text-yellow-300 dark:hover:text-white focus:ring-yellow-300 dark:focus:ring-yellow-900\"\n",
    "    purple = \"border border-purple-700 hover:bg-purple-800 dark:border-purple-400 dark:hover:bg-purple-500 text-purple-700 hover:text-white dark:text-purple-400 dark:hover:text-white focus:ring-purple-300 dark:focus:ring-purple-900\"\n",
    "\n",
    "class ButtonT(VEnum):\n",
    "    \"\"\"Button type variants\"\"\"\n",
    "    primary = BgColor.primary.value\n",
    "    secondary = \"bg-white border border-gray-300 hover:bg-gray-100 dark:bg-gray-800 dark:text-white dark:border-gray-600 dark:hover:bg-gray-700 dark:hover:border-gray-600 text-gray-900 focus:ring-gray-200 dark:focus:ring-gray-700\"\n",
    "    ghost = \"hover:bg-gray-100 dark:hover:text-white dark:hover:bg-gray-700 focus:ring-gray-300 dark:focus:ring-gray-700 cursor-pointer\"\n",
    "    link = \"dark:text-white cursor-pointer\"\n",
    "    success = BgColor.green.value   \n",
    "    warning = BgColor.yellow.value\n",
    "    error = BgColor.red.value\n",
    "    info = BgColor.blue.value\n",
    "\n",
    "class AT(VEnum):\n",
    "    default = \"underline\"\n",
    "    primary = \"text-primary-600 dark:text-primary-500 hover:underline\"\n",
    "    muted = \"text-gray-500 dark:text-gray-400 hover:underline\"\n",
    "    text = \"text-gray-900 dark:text-white hover:underline\"\n",
    "    classic = 'text-blue-600 hover:text-blue-800 underline'\n"
   ]
  },
  {
   "cell_type": "code",
   "execution_count": null,
   "metadata": {},
   "outputs": [],
   "source": [
    "#| export\n",
    "def Button(*c: Union[str, FT],cls: Union[str, Enum]=ButtonT.primary, shape: Union[str, Enum]=Round.default, size: Union[str, Enum]=ButtonSize.base, submit=True, **kwargs) -> FT: \n",
    "    base_class = \"text-center inline-flex items-center\"\n",
    "    if 'type' not in kwargs: kwargs['type'] = 'submit' if submit else 'button'\n",
    "    return fh.Button(*c, cls=(base_class, stringify(shape), stringify(cls), stringify(size)), **kwargs)"
   ]
  },
  {
   "cell_type": "code",
   "execution_count": null,
   "metadata": {},
   "outputs": [
    {
     "ename": "JSONDecodeError",
     "evalue": "Invalid control character at: line 24 column 33 (char 499)",
     "output_type": "error",
     "traceback": [
      "\u001b[31m---------------------------------------------------------------------------\u001b[39m",
      "\u001b[31mJSONDecodeError\u001b[39m                           Traceback (most recent call last)",
      "\u001b[36mCell\u001b[39m\u001b[36m \u001b[39m\u001b[32mIn[7]\u001b[39m\u001b[32m, line 2\u001b[39m\n\u001b[32m      1\u001b[39m \u001b[38;5;66;03m#| hide\u001b[39;00m\n\u001b[32m----> \u001b[39m\u001b[32m2\u001b[39m \u001b[38;5;28;01mimport\u001b[39;00m\u001b[38;5;250m \u001b[39m\u001b[34;01mnbdev\u001b[39;00m; nbdev.nbdev_export()\n",
      "\u001b[36mFile \u001b[39m\u001b[32m~/WebDev/Flowbite/.venv/lib/python3.12/site-packages/fastcore/script.py:116\u001b[39m, in \u001b[36mcall_parse.<locals>._f\u001b[39m\u001b[34m(*args, **kwargs)\u001b[39m\n\u001b[32m    113\u001b[39m \u001b[38;5;129m@wraps\u001b[39m(func)\n\u001b[32m    114\u001b[39m \u001b[38;5;28;01mdef\u001b[39;00m\u001b[38;5;250m \u001b[39m\u001b[34m_f\u001b[39m(*args, **kwargs):\n\u001b[32m    115\u001b[39m     mod = inspect.getmodule(inspect.currentframe().f_back)\n\u001b[32m--> \u001b[39m\u001b[32m116\u001b[39m     \u001b[38;5;28;01mif\u001b[39;00m \u001b[38;5;129;01mnot\u001b[39;00m mod: \u001b[38;5;28;01mreturn\u001b[39;00m \u001b[43mfunc\u001b[49m\u001b[43m(\u001b[49m\u001b[43m*\u001b[49m\u001b[43margs\u001b[49m\u001b[43m,\u001b[49m\u001b[43m \u001b[49m\u001b[43m*\u001b[49m\u001b[43m*\u001b[49m\u001b[43mkwargs\u001b[49m\u001b[43m)\u001b[49m\n\u001b[32m    117\u001b[39m     \u001b[38;5;28;01mif\u001b[39;00m \u001b[38;5;129;01mnot\u001b[39;00m SCRIPT_INFO.func \u001b[38;5;129;01mand\u001b[39;00m mod.\u001b[34m__name__\u001b[39m==\u001b[33m\"\u001b[39m\u001b[33m__main__\u001b[39m\u001b[33m\"\u001b[39m: SCRIPT_INFO.func = func.\u001b[34m__name__\u001b[39m\n\u001b[32m    118\u001b[39m     \u001b[38;5;28;01mif\u001b[39;00m \u001b[38;5;28mlen\u001b[39m(sys.argv)>\u001b[32m1\u001b[39m \u001b[38;5;129;01mand\u001b[39;00m sys.argv[\u001b[32m1\u001b[39m]==\u001b[33m'\u001b[39m\u001b[33m'\u001b[39m: sys.argv.pop(\u001b[32m1\u001b[39m)\n",
      "\u001b[36mFile \u001b[39m\u001b[32m~/WebDev/Flowbite/.venv/lib/python3.12/site-packages/nbdev/doclinks.py:155\u001b[39m, in \u001b[36mnbdev_export\u001b[39m\u001b[34m(path, procs, **kwargs)\u001b[39m\n\u001b[32m    153\u001b[39m     procs = [\u001b[38;5;28mgetattr\u001b[39m(nbdev.export, p) \u001b[38;5;28;01mfor\u001b[39;00m p \u001b[38;5;129;01min\u001b[39;00m L(procs)]\n\u001b[32m    154\u001b[39m files = nbglob(path=path, as_path=\u001b[38;5;28;01mTrue\u001b[39;00m, **kwargs).sorted(\u001b[33m'\u001b[39m\u001b[33mname\u001b[39m\u001b[33m'\u001b[39m)\n\u001b[32m--> \u001b[39m\u001b[32m155\u001b[39m \u001b[38;5;28;01mfor\u001b[39;00m f \u001b[38;5;129;01min\u001b[39;00m files: \u001b[43mnb_export\u001b[49m\u001b[43m(\u001b[49m\u001b[43mf\u001b[49m\u001b[43m,\u001b[49m\u001b[43m \u001b[49m\u001b[43mprocs\u001b[49m\u001b[43m=\u001b[49m\u001b[43mprocs\u001b[49m\u001b[43m)\u001b[49m\n\u001b[32m    156\u001b[39m add_init(get_config().lib_path)\n\u001b[32m    157\u001b[39m _build_modidx()\n",
      "\u001b[36mFile \u001b[39m\u001b[32m~/WebDev/Flowbite/.venv/lib/python3.12/site-packages/nbdev/export.py:81\u001b[39m, in \u001b[36mnb_export\u001b[39m\u001b[34m(nbname, lib_path, procs, name, mod_maker, debug, solo_nb)\u001b[39m\n\u001b[32m     79\u001b[39m \u001b[38;5;28;01mif\u001b[39;00m lib_path \u001b[38;5;129;01mis\u001b[39;00m \u001b[38;5;28;01mNone\u001b[39;00m: lib_path = get_config().lib_path \u001b[38;5;28;01mif\u001b[39;00m is_nbdev() \u001b[38;5;28;01melse\u001b[39;00m \u001b[33m'\u001b[39m\u001b[33m.\u001b[39m\u001b[33m'\u001b[39m\n\u001b[32m     80\u001b[39m exp = ExportModuleProc()\n\u001b[32m---> \u001b[39m\u001b[32m81\u001b[39m nb = \u001b[43mNBProcessor\u001b[49m\u001b[43m(\u001b[49m\u001b[43mnbname\u001b[49m\u001b[43m,\u001b[49m\u001b[43m \u001b[49m\u001b[43m[\u001b[49m\u001b[43mexp\u001b[49m\u001b[43m]\u001b[49m\u001b[43m+\u001b[49m\u001b[43mL\u001b[49m\u001b[43m(\u001b[49m\u001b[43mprocs\u001b[49m\u001b[43m)\u001b[49m\u001b[43m,\u001b[49m\u001b[43m \u001b[49m\u001b[43mdebug\u001b[49m\u001b[43m=\u001b[49m\u001b[43mdebug\u001b[49m\u001b[43m)\u001b[49m\n\u001b[32m     82\u001b[39m nb.process()\n\u001b[32m     83\u001b[39m \u001b[38;5;28;01mfor\u001b[39;00m mod,cells \u001b[38;5;129;01min\u001b[39;00m exp.modules.items():\n",
      "\u001b[36mFile \u001b[39m\u001b[32m~/WebDev/Flowbite/.venv/lib/python3.12/site-packages/nbdev/process.py:95\u001b[39m, in \u001b[36mNBProcessor.__init__\u001b[39m\u001b[34m(self, path, procs, nb, debug, rm_directives, process)\u001b[39m\n\u001b[32m     94\u001b[39m \u001b[38;5;28;01mdef\u001b[39;00m\u001b[38;5;250m \u001b[39m\u001b[34m__init__\u001b[39m(\u001b[38;5;28mself\u001b[39m, path=\u001b[38;5;28;01mNone\u001b[39;00m, procs=\u001b[38;5;28;01mNone\u001b[39;00m, nb=\u001b[38;5;28;01mNone\u001b[39;00m, debug=\u001b[38;5;28;01mFalse\u001b[39;00m, rm_directives=\u001b[38;5;28;01mTrue\u001b[39;00m, process=\u001b[38;5;28;01mFalse\u001b[39;00m):\n\u001b[32m---> \u001b[39m\u001b[32m95\u001b[39m     \u001b[38;5;28mself\u001b[39m.nb = \u001b[43mread_nb\u001b[49m\u001b[43m(\u001b[49m\u001b[43mpath\u001b[49m\u001b[43m)\u001b[49m \u001b[38;5;28;01mif\u001b[39;00m nb \u001b[38;5;129;01mis\u001b[39;00m \u001b[38;5;28;01mNone\u001b[39;00m \u001b[38;5;28;01melse\u001b[39;00m nb\n\u001b[32m     96\u001b[39m     \u001b[38;5;28mself\u001b[39m.lang = nb_lang(\u001b[38;5;28mself\u001b[39m.nb)\n\u001b[32m     97\u001b[39m     \u001b[38;5;28;01mfor\u001b[39;00m cell \u001b[38;5;129;01min\u001b[39;00m \u001b[38;5;28mself\u001b[39m.nb.cells: cell.directives_ = extract_directives(cell, remove=rm_directives, lang=\u001b[38;5;28mself\u001b[39m.lang)\n",
      "\u001b[36mFile \u001b[39m\u001b[32m~/WebDev/Flowbite/.venv/lib/python3.12/site-packages/execnb/nbio.py:59\u001b[39m, in \u001b[36mread_nb\u001b[39m\u001b[34m(path)\u001b[39m\n\u001b[32m     57\u001b[39m \u001b[38;5;28;01mdef\u001b[39;00m\u001b[38;5;250m \u001b[39m\u001b[34mread_nb\u001b[39m(path):\n\u001b[32m     58\u001b[39m     \u001b[33m\"\u001b[39m\u001b[33mReturn notebook at `path`\u001b[39m\u001b[33m\"\u001b[39m\n\u001b[32m---> \u001b[39m\u001b[32m59\u001b[39m     res = dict2nb(\u001b[43m_read_json\u001b[49m\u001b[43m(\u001b[49m\u001b[43mpath\u001b[49m\u001b[43m,\u001b[49m\u001b[43m \u001b[49m\u001b[43mencoding\u001b[49m\u001b[43m=\u001b[49m\u001b[33;43m'\u001b[39;49m\u001b[33;43mutf-8\u001b[39;49m\u001b[33;43m'\u001b[39;49m\u001b[43m)\u001b[49m)\n\u001b[32m     60\u001b[39m     res[\u001b[33m'\u001b[39m\u001b[33mpath_\u001b[39m\u001b[33m'\u001b[39m] = \u001b[38;5;28mstr\u001b[39m(path)\n\u001b[32m     61\u001b[39m     \u001b[38;5;28;01mreturn\u001b[39;00m res\n",
      "\u001b[36mFile \u001b[39m\u001b[32m~/WebDev/Flowbite/.venv/lib/python3.12/site-packages/execnb/nbio.py:18\u001b[39m, in \u001b[36m_read_json\u001b[39m\u001b[34m(self, encoding, errors)\u001b[39m\n\u001b[32m     17\u001b[39m \u001b[38;5;28;01mdef\u001b[39;00m\u001b[38;5;250m \u001b[39m\u001b[34m_read_json\u001b[39m(\u001b[38;5;28mself\u001b[39m, encoding=\u001b[38;5;28;01mNone\u001b[39;00m, errors=\u001b[38;5;28;01mNone\u001b[39;00m):\n\u001b[32m---> \u001b[39m\u001b[32m18\u001b[39m     \u001b[38;5;28;01mreturn\u001b[39;00m \u001b[43mloads\u001b[49m\u001b[43m(\u001b[49m\u001b[43mPath\u001b[49m\u001b[43m(\u001b[49m\u001b[38;5;28;43mself\u001b[39;49m\u001b[43m)\u001b[49m\u001b[43m.\u001b[49m\u001b[43mread_text\u001b[49m\u001b[43m(\u001b[49m\u001b[43mencoding\u001b[49m\u001b[43m=\u001b[49m\u001b[43mencoding\u001b[49m\u001b[43m,\u001b[49m\u001b[43m \u001b[49m\u001b[43merrors\u001b[49m\u001b[43m=\u001b[49m\u001b[43merrors\u001b[49m\u001b[43m)\u001b[49m\u001b[43m)\u001b[49m\n",
      "\u001b[36mFile \u001b[39m\u001b[32m~/.local/share/uv/python/cpython-3.12.7-linux-x86_64-gnu/lib/python3.12/json/__init__.py:346\u001b[39m, in \u001b[36mloads\u001b[39m\u001b[34m(s, cls, object_hook, parse_float, parse_int, parse_constant, object_pairs_hook, **kw)\u001b[39m\n\u001b[32m    341\u001b[39m     s = s.decode(detect_encoding(s), \u001b[33m'\u001b[39m\u001b[33msurrogatepass\u001b[39m\u001b[33m'\u001b[39m)\n\u001b[32m    343\u001b[39m \u001b[38;5;28;01mif\u001b[39;00m (\u001b[38;5;28mcls\u001b[39m \u001b[38;5;129;01mis\u001b[39;00m \u001b[38;5;28;01mNone\u001b[39;00m \u001b[38;5;129;01mand\u001b[39;00m object_hook \u001b[38;5;129;01mis\u001b[39;00m \u001b[38;5;28;01mNone\u001b[39;00m \u001b[38;5;129;01mand\u001b[39;00m\n\u001b[32m    344\u001b[39m         parse_int \u001b[38;5;129;01mis\u001b[39;00m \u001b[38;5;28;01mNone\u001b[39;00m \u001b[38;5;129;01mand\u001b[39;00m parse_float \u001b[38;5;129;01mis\u001b[39;00m \u001b[38;5;28;01mNone\u001b[39;00m \u001b[38;5;129;01mand\u001b[39;00m\n\u001b[32m    345\u001b[39m         parse_constant \u001b[38;5;129;01mis\u001b[39;00m \u001b[38;5;28;01mNone\u001b[39;00m \u001b[38;5;129;01mand\u001b[39;00m object_pairs_hook \u001b[38;5;129;01mis\u001b[39;00m \u001b[38;5;28;01mNone\u001b[39;00m \u001b[38;5;129;01mand\u001b[39;00m \u001b[38;5;129;01mnot\u001b[39;00m kw):\n\u001b[32m--> \u001b[39m\u001b[32m346\u001b[39m     \u001b[38;5;28;01mreturn\u001b[39;00m \u001b[43m_default_decoder\u001b[49m\u001b[43m.\u001b[49m\u001b[43mdecode\u001b[49m\u001b[43m(\u001b[49m\u001b[43ms\u001b[49m\u001b[43m)\u001b[49m\n\u001b[32m    347\u001b[39m \u001b[38;5;28;01mif\u001b[39;00m \u001b[38;5;28mcls\u001b[39m \u001b[38;5;129;01mis\u001b[39;00m \u001b[38;5;28;01mNone\u001b[39;00m:\n\u001b[32m    348\u001b[39m     \u001b[38;5;28mcls\u001b[39m = JSONDecoder\n",
      "\u001b[36mFile \u001b[39m\u001b[32m~/.local/share/uv/python/cpython-3.12.7-linux-x86_64-gnu/lib/python3.12/json/decoder.py:337\u001b[39m, in \u001b[36mJSONDecoder.decode\u001b[39m\u001b[34m(self, s, _w)\u001b[39m\n\u001b[32m    332\u001b[39m \u001b[38;5;28;01mdef\u001b[39;00m\u001b[38;5;250m \u001b[39m\u001b[34mdecode\u001b[39m(\u001b[38;5;28mself\u001b[39m, s, _w=WHITESPACE.match):\n\u001b[32m    333\u001b[39m \u001b[38;5;250m    \u001b[39m\u001b[33;03m\"\"\"Return the Python representation of ``s`` (a ``str`` instance\u001b[39;00m\n\u001b[32m    334\u001b[39m \u001b[33;03m    containing a JSON document).\u001b[39;00m\n\u001b[32m    335\u001b[39m \n\u001b[32m    336\u001b[39m \u001b[33;03m    \"\"\"\u001b[39;00m\n\u001b[32m--> \u001b[39m\u001b[32m337\u001b[39m     obj, end = \u001b[38;5;28;43mself\u001b[39;49m\u001b[43m.\u001b[49m\u001b[43mraw_decode\u001b[49m\u001b[43m(\u001b[49m\u001b[43ms\u001b[49m\u001b[43m,\u001b[49m\u001b[43m \u001b[49m\u001b[43midx\u001b[49m\u001b[43m=\u001b[49m\u001b[43m_w\u001b[49m\u001b[43m(\u001b[49m\u001b[43ms\u001b[49m\u001b[43m,\u001b[49m\u001b[43m \u001b[49m\u001b[32;43m0\u001b[39;49m\u001b[43m)\u001b[49m\u001b[43m.\u001b[49m\u001b[43mend\u001b[49m\u001b[43m(\u001b[49m\u001b[43m)\u001b[49m\u001b[43m)\u001b[49m\n\u001b[32m    338\u001b[39m     end = _w(s, end).end()\n\u001b[32m    339\u001b[39m     \u001b[38;5;28;01mif\u001b[39;00m end != \u001b[38;5;28mlen\u001b[39m(s):\n",
      "\u001b[36mFile \u001b[39m\u001b[32m~/.local/share/uv/python/cpython-3.12.7-linux-x86_64-gnu/lib/python3.12/json/decoder.py:353\u001b[39m, in \u001b[36mJSONDecoder.raw_decode\u001b[39m\u001b[34m(self, s, idx)\u001b[39m\n\u001b[32m    344\u001b[39m \u001b[38;5;250m\u001b[39m\u001b[33;03m\"\"\"Decode a JSON document from ``s`` (a ``str`` beginning with\u001b[39;00m\n\u001b[32m    345\u001b[39m \u001b[33;03ma JSON document) and return a 2-tuple of the Python\u001b[39;00m\n\u001b[32m    346\u001b[39m \u001b[33;03mrepresentation and the index in ``s`` where the document ended.\u001b[39;00m\n\u001b[32m   (...)\u001b[39m\u001b[32m    350\u001b[39m \n\u001b[32m    351\u001b[39m \u001b[33;03m\"\"\"\u001b[39;00m\n\u001b[32m    352\u001b[39m \u001b[38;5;28;01mtry\u001b[39;00m:\n\u001b[32m--> \u001b[39m\u001b[32m353\u001b[39m     obj, end = \u001b[38;5;28;43mself\u001b[39;49m\u001b[43m.\u001b[49m\u001b[43mscan_once\u001b[49m\u001b[43m(\u001b[49m\u001b[43ms\u001b[49m\u001b[43m,\u001b[49m\u001b[43m \u001b[49m\u001b[43midx\u001b[49m\u001b[43m)\u001b[49m\n\u001b[32m    354\u001b[39m \u001b[38;5;28;01mexcept\u001b[39;00m \u001b[38;5;167;01mStopIteration\u001b[39;00m \u001b[38;5;28;01mas\u001b[39;00m err:\n\u001b[32m    355\u001b[39m     \u001b[38;5;28;01mraise\u001b[39;00m JSONDecodeError(\u001b[33m\"\u001b[39m\u001b[33mExpecting value\u001b[39m\u001b[33m\"\u001b[39m, s, err.value) \u001b[38;5;28;01mfrom\u001b[39;00m\u001b[38;5;250m \u001b[39m\u001b[38;5;28;01mNone\u001b[39;00m\n",
      "\u001b[31mJSONDecodeError\u001b[39m: Invalid control character at: line 24 column 33 (char 499)"
     ]
    }
   ],
   "source": [
    "#| hide\n",
    "import nbdev; nbdev.nbdev_export()"
   ]
  }
 ],
 "metadata": {
  "kernelspec": {
   "display_name": ".venv",
   "language": "python",
   "name": "python3"
  },
  "language_info": {
   "name": "python",
   "version": "3.12.7"
  }
 },
 "nbformat": 4,
 "nbformat_minor": 2
}

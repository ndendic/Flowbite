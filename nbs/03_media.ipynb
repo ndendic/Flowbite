{
 "cells": [
  {
   "cell_type": "code",
   "execution_count": 8,
   "metadata": {},
   "outputs": [],
   "source": [
    "#| default_exp media"
   ]
  },
  {
   "cell_type": "code",
   "execution_count": 9,
   "metadata": {},
   "outputs": [],
   "source": [
    "#| export\n",
    "import fasthtml.common as fh\n",
    "from fastbite.core import *\n",
    "from fasthtml.common import Span, FT\n",
    "from fastcore.all import *\n",
    "from fastbite.base import *"
   ]
  },
  {
   "cell_type": "code",
   "execution_count": 10,
   "metadata": {},
   "outputs": [],
   "source": [
    "#| export\n",
    "def Icon(icon:str, # Icon name from [lucide icons](https://lucide.dev/icons/)\n",
    "           height:int=20, \n",
    "           width:int=20, \n",
    "           stroke_width:int=None, # Thickness of lines\n",
    "           cls=(), # Additional classes on the `Uk_icon` tag\n",
    "           **kwargs # Additional args for `Uk_icon` tag\n",
    "           )->FT: # a lucide icon of the specified size \n",
    "    \"Creates an icon using lucide icons\"\n",
    "    return I(data_lucide=icon, height=height, width=width, stroke_width=stroke_width, cls=cls, **kwargs)\n",
    "\n",
    "def IconLink(icon:str,  # Icon name from [lucide icons](https://lucide.dev/icons/)\n",
    "           height:int=None, \n",
    "           width:int=None, \n",
    "           stroke_width:int=None, # Thickness of lines\n",
    "           cls=(), # Additional classes on the icon\n",
    "           base_cls=(), # Additional classes on the icon\n",
    "           icon_cls=(), # Additional classes on the icon\n",
    "           button:bool=False, # Whether to use a button (defaults to a link)\n",
    "           **kwargs # Additional args for `A` or `Button` tag\n",
    "           )->FT: # a lucide icon  button or link of the specified size\n",
    "    \"Creates an icon link using lucide icons\"\n",
    "    if not base_cls:\n",
    "        base_cls = 'inline-flex items-center p-2 rounded-full' if button else 'inline-flex items-center'\n",
    "    fn = fh.Button if button else fh.A\n",
    "    return fn(cls=(base_cls, stringify(cls)), **kwargs)(\n",
    "        Icon(icon=icon, height=height, width=width, stroke_width=stroke_width, cls=icon_cls))\n",
    "\n",
    "def DiceBearAvatar(seed_name:str, # Seed name (ie 'Isaac Flath')\n",
    "                   h:int=12,         # Height \n",
    "                   w:int=12,  \n",
    "                   cls:str=Round.full,\n",
    "                   **kwargs # Additional args for the span\n",
    "                  ):          # Span with Avatar\n",
    "    \"Creates an Avatar using https://dicebear.com/\"\n",
    "    url = 'https://api.dicebear.com/8.x/lorelei/svg?seed='\n",
    "    return Span(cls=(stringify(cls),f\"relative flex h-{h} w-{w} shrink-0 overflow-hidden bg-gray-200 dark:bg-gray-700\"))(\n",
    "            fh.Img(cls=f\"aspect-square h-{h} w-{w}\", alt=\"Avatar\", loading=\"lazy\", src=f\"{url}{seed_name}\", **kwargs))\n",
    "\n",
    "def PicSumImg(h:int=200,           # Height in pixels\n",
    "              w:int=200,           # Width in pixels\n",
    "              id:int=None,        # Optional specific image ID to use\n",
    "              grayscale:bool=False, # Whether to return grayscale version\n",
    "              blur:int=None,       # Optional blur amount (1-10)\n",
    "              **kwargs             # Additional args for Img tag\n",
    "              )->FT:              # Img tag with picsum image\n",
    "    \"Creates a placeholder image using https://picsum.photos/\"\n",
    "    url = f\"https://picsum.photos\"\n",
    "    if id is not None: url = f\"{url}/id/{id}\"\n",
    "    url = f\"{url}/{w}/{h}\"\n",
    "    if grayscale: url = f\"{url}?grayscale\"\n",
    "    if blur is not None: \n",
    "        url = f\"{url}{'?' if not grayscale else '&'}blur={max(1,min(10,blur))}\"\n",
    "    return fh.Img(src=url, loading=\"lazy\", **kwargs)"
   ]
  },
  {
   "cell_type": "code",
   "execution_count": 11,
   "metadata": {},
   "outputs": [],
   "source": [
    "#| hide\n",
    "import nbdev; nbdev.nbdev_export()"
   ]
  }
 ],
 "metadata": {
  "kernelspec": {
   "display_name": ".venv",
   "language": "python",
   "name": "python3"
  },
  "language_info": {
   "codemirror_mode": {
    "name": "ipython",
    "version": 3
   },
   "file_extension": ".py",
   "mimetype": "text/x-python",
   "name": "python",
   "nbconvert_exporter": "python",
   "pygments_lexer": "ipython3",
   "version": "3.12.7"
  }
 },
 "nbformat": 4,
 "nbformat_minor": 2
}

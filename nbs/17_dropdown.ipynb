{
 "cells": [
  {
   "cell_type": "code",
   "execution_count": 1,
   "metadata": {},
   "outputs": [],
   "source": [
    "#| default_exp dropdown"
   ]
  },
  {
   "cell_type": "code",
   "execution_count": 2,
   "metadata": {},
   "outputs": [],
   "source": [
    "#| export\n",
    "import fasthtml.common as fh\n",
    "from fasthtml.common import FT\n",
    "from fastcore.all import *\n",
    "from fastbite.core import *\n",
    "from fastbite.base import *\n",
    "from fastbite.base_styles import *\n",
    "from fastbite.media import *"
   ]
  },
  {
   "cell_type": "code",
   "execution_count": 3,
   "metadata": {},
   "outputs": [],
   "source": [
    "#| export\n",
    "def DropdownItem(*c, # Components to put in the dropdown item\n",
    "                 href:str='#', # Href for the dropdown item\n",
    "                 cls='block px-4 py-2 hover:bg-gray-100 dark:hover:bg-gray-600 dark:hover:text-white', # Additional classes on the dropdown item\n",
    "                 **kwargs # Additional args for the dropdown item\n",
    "                 )->FT: # Dropdown item component\n",
    "    \"Creates a dropdown item\"\n",
    "    return fh.Li(fh.A(*c, href=href, cls=stringify(cls), **kwargs))\n",
    "\n",
    "def DropdownList(*li, # List items are dropdown items (Special `DropdownItem` such as `DropdownHeader`, `DropdownDivider`, `DropdownItem` can also be used)\n",
    "                 cls='py-2 text-sm text-gray-700 dark:text-gray-200', # Additional classes on the dropdown\n",
    "                 **kwargs # Additional args for the dropdown\n",
    "                 )->FT: # Dropdown list component\n",
    "    \"Creates a dropdown list\"\n",
    "    return fh.Ul(*li, cls=stringify(cls), **kwargs)\n",
    "\n",
    "def DropdownContainer(*c, # Components to put in the dropdown container\n",
    "                      id:str='', # ID for the dropdown\n",
    "                      devider:bool=False, # Whether to show a divider\n",
    "                      cls='z-10 hidden bg-white rounded-lg shadow-sm w-44 dark:bg-gray-700', # Additional classes on the dropdown\n",
    "                      **kwargs # Additional args for the dropdown\n",
    "                      )->FT: # Dropdown component\n",
    "    \"Creates a dropdown\"\n",
    "    id = fh.unqid() if not id else id\n",
    "    devider_cls = 'divide-y divide-gray-100 dark:divide-gray-600' if devider else ''\n",
    "    return fh.Div(*c, id=id, cls=(devider_cls, stringify(cls)), **kwargs)\n",
    "\n",
    "def DropdownHeader(*c, # Components to put in the dropdown header\n",
    "                   cls='px-4 py-3 text-sm text-gray-900 dark:text-white', # Additional classes on the dropdown header\n",
    "                   **kwargs # Additional args for the dropdown header\n",
    "                   )->FT: # Dropdown header component\n",
    "    \"Creates a dropdown header\"\n",
    "    return fh.Div(*c, cls=stringify(cls), **kwargs)\n",
    "\n",
    "def Dropdown(*c, # Components to put in the dropdown\n",
    "             id:str='', # ID for the dropdown\n",
    "             header:FT|Iterable[FT]=None, # Components for the header (often a `DropdownHeader`)\n",
    "             header_cls='px-4 py-3 text-sm text-gray-900 dark:text-white', # Additional classes on the dropdown header\n",
    "             list_cls='py-2 text-sm text-gray-700 dark:text-gray-200', # Additional classes on the dropdown list\n",
    "             cls='z-10 hidden bg-white rounded-lg shadow-sm w-44 dark:bg-gray-700', # Additional classes on the Dropdown Container\n",
    "             devider:bool=False, # Whether to show a divider\n",
    "             **kwargs # Additional args for the dropdown\n",
    "             )->FT: # Dropdown component\n",
    "    \"Creates a dropdown\"\n",
    "    id = fh.unqid() if not id else id\n",
    "    res = []\n",
    "    if header: res.append(DropdownHeader(*header if isinstance(header, (list, tuple)) else [header], cls=header_cls))\n",
    "    res.append(DropdownList(*c, cls=list_cls))\n",
    "    res.append(Script('htmx.onLoad(function(content) {initDropdowns();})'))\n",
    "    return DropdownContainer(*res, id=id, devider=devider, cls=stringify(cls), **kwargs)\n",
    "\n",
    "def DropdownButton(*c, # Components to put in the dropdown button\n",
    "                   cls='', # Additional classes on the dropdown button\n",
    "                   controls:str='', # Control for the dropdown button\n",
    "                   icon:str='chevron-down', # Icon for the dropdown button\n",
    "                   show_icon:bool=True, # Whether to show the icon\n",
    "                   **kwargs # Additional args for the dropdown button\n",
    "                   )->FT: # Dropdown button component\n",
    "    \"Creates a dropdown button\"\n",
    "    return Button(*c,Icon(icon, height=16, width=16, cls='ms-3') if icon and show_icon else None, data_dropdown_toggle=controls, cls=stringify(cls), **kwargs)\n",
    "\n",
    "\n"
   ]
  },
  {
   "cell_type": "code",
   "execution_count": 4,
   "metadata": {},
   "outputs": [],
   "source": [
    "#| hide\n",
    "import nbdev; nbdev.nbdev_export()"
   ]
  }
 ],
 "metadata": {
  "kernelspec": {
   "display_name": ".venv",
   "language": "python",
   "name": "python3"
  },
  "language_info": {
   "codemirror_mode": {
    "name": "ipython",
    "version": 3
   },
   "file_extension": ".py",
   "mimetype": "text/x-python",
   "name": "python",
   "nbconvert_exporter": "python",
   "pygments_lexer": "ipython3",
   "version": "3.12.7"
  }
 },
 "nbformat": 4,
 "nbformat_minor": 2
}

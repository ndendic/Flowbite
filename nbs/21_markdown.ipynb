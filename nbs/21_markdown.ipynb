{
 "cells": [
  {
   "cell_type": "code",
   "execution_count": 1,
   "metadata": {},
   "outputs": [],
   "source": [
    "#| default_exp markdown"
   ]
  },
  {
   "cell_type": "code",
   "execution_count": 2,
   "metadata": {},
   "outputs": [],
   "source": [
    "#| export\n",
    "from fasthtml.common import FT\n",
    "from fastcore.all import *\n",
    "from fastbite.core import *\n",
    "from fastbite.base import *\n",
    "from fastbite.base_styles import *\n",
    "\n",
    "import mistletoe\n",
    "from lxml import html, etree"
   ]
  },
  {
   "cell_type": "code",
   "execution_count": 3,
   "metadata": {},
   "outputs": [],
   "source": [
    "#| export\n",
    "DEFAULT_CLASS_MAP = {\n",
    "    # Headings with proper hierarchy and spacing\n",
    "    'h1': 'text-4xl font-bold text-gray-900 dark:text-white mb-6 mt-12',\n",
    "    'h2': 'text-3xl font-bold text-gray-900 dark:text-white mb-5 mt-10', \n",
    "    'h3': 'text-2xl font-semibold text-gray-900 dark:text-white mb-4 mt-8',\n",
    "    'h4': 'text-xl font-semibold text-gray-900 dark:text-white mb-3 mt-6',\n",
    "    \n",
    "    # Body text and links\n",
    "    'p': 'text-base text-gray-700 dark:text-gray-300 leading-relaxed mb-6',\n",
    "    'a': 'text-primary-600 dark:text-primary-500 hover:underline font-medium',\n",
    "    \n",
    "    # Lists with proper spacing\n",
    "    'ul': 'list-disc space-y-2 pl-5 mb-6 text-base text-gray-700 dark:text-gray-300',\n",
    "    'ol': 'list-decimal space-y-2 pl-5 mb-6 text-base text-gray-700 dark:text-gray-300',\n",
    "    'li': 'leading-relaxed',\n",
    "    \n",
    "    # Code and quotes\n",
    "    'pre': 'bg-gray-50 dark:bg-gray-800 rounded-lg p-4 mb-6 overflow-x-auto',\n",
    "    'code': 'font-mono text-sm bg-gray-100 dark:bg-gray-800 px-1 py-0.5 rounded text-gray-800 dark:text-gray-200',\n",
    "    'pre code': 'font-mono text-sm block overflow-x-auto text-gray-800 dark:text-gray-200',\n",
    "    'blockquote': 'pl-4 border-l-4 border-primary-500 italic mb-6 text-gray-700 dark:text-gray-300',\n",
    "    \n",
    "    # Tables\n",
    "    'table': 'w-full border-collapse mb-6',\n",
    "    'th': 'text-left p-2 font-semibold border-b border-gray-200 dark:border-gray-700',\n",
    "    'td': 'p-2 border-b border-gray-200 dark:border-gray-700',\n",
    "    \n",
    "    # Other elements\n",
    "    'hr': 'my-8 border-t border-gray-200 dark:border-gray-700',\n",
    "    'img': 'max-w-full h-auto rounded-lg mb-6'\n",
    "}\n",
    "\n",
    "def apply_classes(html_str:str, # Html string\n",
    "                  class_map=None, # Class map\n",
    "                  class_map_mods=None # Class map that will modify the class map map (useful for small changes to a base class map)\n",
    "                 )->str: # Html string with classes applied\n",
    "    \"Apply classes to html string\"\n",
    "    if not html_str: return html_str\n",
    "    try:\n",
    "        class_map = ifnone(class_map, DEFAULT_CLASS_MAP)\n",
    "        if class_map_mods: class_map = {**class_map, **class_map_mods}\n",
    "        html_str = html.fromstring(html_str)\n",
    "        for selector, classes in class_map.items():\n",
    "            # Handle descendant selectors (e.g., 'pre code')\n",
    "            xpath = '//' + '/descendant::'.join(selector.split())\n",
    "            for element in html_str.xpath(xpath):\n",
    "                existing_class = element.get('class', '')\n",
    "                new_class = f\"{existing_class} {classes}\".strip()\n",
    "                element.set('class', new_class)\n",
    "        return etree.tostring(html_str, encoding='unicode', method='html')\n",
    "    except etree.ParserError:\n",
    "        return html_str\n",
    "\n",
    "def render_md(md_content:str, # Markdown content\n",
    "               class_map=None, # Class map\n",
    "               class_map_mods=None # Additional class map\n",
    "              )->FT: # Rendered markdown\n",
    "    \"Renders markdown using mistletoe and lxml\"\n",
    "    if md_content=='': return md_content\n",
    "    # Check for required dependencies        \n",
    "    html_content = mistletoe.markdown(md_content) #, mcp.PygmentsRenderer)\n",
    "    return NotStr(apply_classes(html_content, class_map, class_map_mods))\n",
    "\n",
    "def render_md_article(md_content:str, # Markdown content\n",
    "                      class_map=None, # Class map\n",
    "                      class_map_mods=None # Additional class map\n",
    "                     )->FT: # Rendered markdown\n",
    "    \"Renders markdown using mistletoe and lxml\"\n",
    "    return Div(render_md(md_content, class_map, class_map_mods),cls=(\"format lg:format-lg dark:format-invert\"))\n"
   ]
  },
  {
   "cell_type": "code",
   "execution_count": 4,
   "metadata": {},
   "outputs": [],
   "source": [
    "#| hide\n",
    "import nbdev; nbdev.nbdev_export()"
   ]
  }
 ],
 "metadata": {
  "kernelspec": {
   "display_name": ".venv",
   "language": "python",
   "name": "python3"
  },
  "language_info": {
   "codemirror_mode": {
    "name": "ipython",
    "version": 3
   },
   "file_extension": ".py",
   "mimetype": "text/x-python",
   "name": "python",
   "nbconvert_exporter": "python",
   "pygments_lexer": "ipython3",
   "version": "3.12.7"
  }
 },
 "nbformat": 4,
 "nbformat_minor": 2
}

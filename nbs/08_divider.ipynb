{
 "cells": [
  {
   "cell_type": "code",
   "execution_count": 1,
   "metadata": {},
   "outputs": [],
   "source": [
    "#| default_exp components/divider"
   ]
  },
  {
   "cell_type": "code",
   "execution_count": 2,
   "metadata": {},
   "outputs": [],
   "source": [
    "#| export\n",
    "from enum import Enum\n",
    "import fasthtml.common as fh\n",
    "from fasthtml.common import FT\n",
    "from fastcore.all import *\n",
    "from fastbite.core import *\n",
    "from fastbite.base import *\n",
    "from fastbite.base_styles import *"
   ]
  },
  {
   "cell_type": "code",
   "execution_count": 3,
   "metadata": {},
   "outputs": [],
   "source": [
    "#| export\n",
    "#| export\n",
    "class DividerT(VEnum):\n",
    "    default = \"h-px my-8 bg-gray-200 border-0 dark:bg-gray-600\"\n",
    "    vertical = \"h-full w-px mx-4 bg-gray-200 border-0 dark:bg-gray-600\"\n",
    "    trimmed = \"w-48 h-1 mx-auto my-4 bg-gray-100 border-0 rounded-sm md:my-10 dark:bg-gray-600\"\n",
    "    trimmed_vertical = \"h-48 w-1 my-auto mx-4 bg-gray-100 border-0 rounded-sm md:mx-10 dark:bg-gray-600\"\n",
    "\n",
    "def Divider(*c, # contents of Divider tag (often nothing)\n",
    "            vertical=False, # Whether to create a vertical divider\n",
    "            cls=(), # Classes in addition to Divider styling\n",
    "            **kwargs # Additional args for Divider tag\n",
    "            )->FT: #  Hr(..., cls='uk-divider-icon') or Div(..., cls='uk-divider-vertical')\n",
    "    \"Divider with default styling and margin\"\n",
    "    cls = (stringify(cls), DividerT.vertical) if vertical else (stringify(cls), DividerT.default)\n",
    "    container = Div if vertical else Hr\n",
    "    return container(*c, cls=cls, **kwargs)\n",
    "\n",
    "# TODO: This is a copy of the DividerSplit function in fh_flowbite/components.py\n",
    "def DividerSplit(*c, cls=(), line_cls=(), text_cls=()):\n",
    "    \"Creates a simple horizontal line divider with configurable thickness and vertical spacing\"\n",
    "    cls, line_cls, text_cls = map(stringify,(cls, line_cls, text_cls))\n",
    "    return Div(\n",
    "            Divider(cls='w-64 h-1 my-8 bg-gray-200 border-0 rounded-sm dark:bg-gray-700'),\n",
    "            Div(\n",
    "                *c,\n",
    "                cls='absolute px-4 -translate-x-1/2 left-1/2 bg-inherit'\n",
    "            ),\n",
    "            cls='inline-flex items-center justify-center w-full'\n",
    "        )\n",
    "\n",
    "\n",
    "def DividerLine(lwidth=2, y_space=4): return Hr(cls=f\"my-{y_space} h-[{lwidth}px] w-full bg-gray-200 dark:bg-gray-700\")\n"
   ]
  },
  {
   "cell_type": "code",
   "execution_count": 4,
   "metadata": {},
   "outputs": [],
   "source": [
    "#| hide\n",
    "import nbdev; nbdev.nbdev_export()"
   ]
  }
 ],
 "metadata": {
  "kernelspec": {
   "display_name": ".venv",
   "language": "python",
   "name": "python3"
  },
  "language_info": {
   "codemirror_mode": {
    "name": "ipython",
    "version": 3
   },
   "file_extension": ".py",
   "mimetype": "text/x-python",
   "name": "python",
   "nbconvert_exporter": "python",
   "pygments_lexer": "ipython3",
   "version": "3.12.7"
  }
 },
 "nbformat": 4,
 "nbformat_minor": 2
}

{
 "cells": [
  {
   "cell_type": "code",
   "execution_count": 4,
   "metadata": {},
   "outputs": [],
   "source": [
    "#| default_exp blockquote"
   ]
  },
  {
   "cell_type": "code",
   "execution_count": 5,
   "metadata": {},
   "outputs": [],
   "source": [
    "#| export\n",
    "from enum import Enum\n",
    "import fasthtml.common as fh\n",
    "from fasthtml.common import FT\n",
    "from fastcore.all import *\n",
    "from fastbite.core import *\n",
    "from fastbite.base import *\n",
    "from fastbite.media import Icon"
   ]
  },
  {
   "cell_type": "code",
   "execution_count": 6,
   "metadata": {},
   "outputs": [],
   "source": [
    "#| export\n",
    "class BlockquoteT(VEnum):\n",
    "    \"\"\"Blockquote variants\"\"\"\n",
    "    default = \"italic font-semibold text-gray-900 dark:text-white p-4 my-4\"\n",
    "    solid = \"italic font-semibold text-gray-900 dark:text-white p-4 my-4 border-s-4 border-gray-300 bg-gray-50 dark:border-gray-500 dark:bg-gray-800\"\n",
    "    secondary = \"border-l-4 border-gray-300 dark:border-gray-500\"\n",
    "    success = \"border-l-4 border-green-500\"\n",
    "    \n",
    "\n",
    "def Blockquote(*c:FT|str, # Contents of Blockquote tag (often text)\n",
    "               with_icon:bool=False,\n",
    "               cls:Enum|str|tuple=BlockquoteT.default, # Classes in addition to Blockquote styling\n",
    "               **kwargs # Additional args for Blockquote tag\n",
    "               )->FT: # Blockquote(..., cls='uk-blockquote')\n",
    "    \"Blockquote with Styling\"\n",
    "    elements =[]\n",
    "    if with_icon:\n",
    "        elements.append(Icon(\"quote\",cls=\"h-8 w-8 text-gray-400 dark:text-gray-600 mb-1\"))\n",
    "    elements.extend(c)\n",
    "    return fh.Blockquote(*elements, cls=(stringify(cls)), **kwargs)"
   ]
  },
  {
   "cell_type": "code",
   "execution_count": 7,
   "metadata": {},
   "outputs": [],
   "source": [
    "#| hide\n",
    "import nbdev; nbdev.nbdev_export()"
   ]
  }
 ],
 "metadata": {
  "kernelspec": {
   "display_name": ".venv",
   "language": "python",
   "name": "python3"
  },
  "language_info": {
   "codemirror_mode": {
    "name": "ipython",
    "version": 3
   },
   "file_extension": ".py",
   "mimetype": "text/x-python",
   "name": "python",
   "nbconvert_exporter": "python",
   "pygments_lexer": "ipython3",
   "version": "3.12.7"
  }
 },
 "nbformat": 4,
 "nbformat_minor": 2
}

{
 "cells": [
  {
   "cell_type": "code",
   "execution_count": 1,
   "metadata": {},
   "outputs": [],
   "source": [
    "#| default_exp components/tabs"
   ]
  },
  {
   "cell_type": "code",
   "execution_count": 2,
   "metadata": {},
   "outputs": [],
   "source": [
    "#| export\n",
    "from enum import Enum\n",
    "import fasthtml.common as fh\n",
    "from fasthtml.common import FT\n",
    "from fastcore.all import *\n",
    "from fastbite.core import *\n",
    "from fastbite.components.base import *\n",
    "from fastbite.components.base_styles import *\n",
    "from fastbite.components.containers import *"
   ]
  },
  {
   "cell_type": "code",
   "execution_count": 3,
   "metadata": {},
   "outputs": [],
   "source": [
    "#| export\n",
    "#| export\n",
    "# TODO: Add horizontal tabs\n",
    "class TabItemT(VEnum):\n",
    "    \"Enum for the tab item\"\n",
    "    default_active = \"text-primary-600 hover:text-primary-600 dark:text-primary-500 dark:hover:text-primary-500 border-primary-600 dark:border-primary-500\"\n",
    "    default_inactive = \"dark:border-transparent text-gray-500 hover:text-gray-600 dark:text-gray-400 border-gray-100 hover:border-gray-300 dark:border-gray-700 dark:hover:text-gray-300\"\n",
    "#     pill_active = \"py-3 text-white bg-primary-600 rounded-lg active\"\n",
    "#     pill_inactive = \"py-3 rounded-lg hover:text-gray-900 hover:bg-gray-100 dark:hover:bg-gray-800 dark:hover:text-white\"\n",
    "\n",
    "def TabItem(text:str, # Components\n",
    "            controls:str, # Controls of the tab\n",
    "            cls:Enum|str|tuple=\"\", # Additional classes on the `Li`\n",
    "            button_cls:Enum|str|tuple='text-center inline-flex items-center inline-block p-4 border-b-2', # Added button_cls\n",
    "            **kwargs # Additional args for the `Li`\n",
    "           )->FT: # Tab item\n",
    "    ctrl = f'{controls}' if controls else text\n",
    "    \"A TabItem where children will be different tabs\"\n",
    "    return Li(role='presentation', cls=stringify(cls))( # Use stringify for li cls\n",
    "            fh.Button(text, id=f'{text}-tab', data_tabs_target=f'#{ctrl}', type='button', role='tab', aria_controls=ctrl, aria_selected='false', cls=stringify(button_cls), **kwargs) # Use stringify for button_cls\n",
    "        )\n",
    "\n",
    "class TabContainerT(VEnum):\n",
    "    \"Enum for the tab container\"\n",
    "    base = \"text-sm font-medium text-center text-gray-500 dark:text-gray-400 border-b-2 border-gray-200 dark:border-gray-700\"\n",
    "    rounded = \"border rounded-t-lg bg-gray-50 dark:bg-gray-700 border-b-2 border-gray-50 dark:border-gray-600\"\n",
    "    plain = \"text-sm font-medium text-center text-gray-500 dark:text-gray-400\"\n",
    "\n",
    "def TabContainer(*li, # Components\n",
    "                  cls:Enum|str|tuple=TabContainerT.base, # Additional classes on the `Ul`,\n",
    "                  active_items_cls:Enum|str|tuple=TabItemT.default_active, # Additional classes on the active items\n",
    "                  inactive_items_cls:Enum|str|tuple=TabItemT.default_inactive, # Additional classes on the inactive items\n",
    "                  ul_cls:Enum|str|tuple=\"-mb-px flex flex-wrap\", # Added ul_cls\n",
    "                  **kwargs # Additional args for the `Ul`\n",
    "                 )->FT: # Tab container\n",
    "    \"A TabContainer where children will be different tabs\"\n",
    "    # ul_cls = \"-mb-px flex flex-wrap\" # Replaced by param\n",
    "    cls = stringify(cls)\n",
    "    active_items_cls=stringify(active_items_cls) # Use stringify\n",
    "    inactive_items_cls=stringify(inactive_items_cls) # Use stringify\n",
    "    return Div(cls=(FlexT.block,FlexT.wrap,stringify(cls)),**kwargs)( # stringify applied earlier\n",
    "                Ul(*li,\n",
    "                   cls=stringify(ul_cls), # Use stringify\n",
    "                   data_tabs_active_classes=active_items_cls, # stringify applied earlier\n",
    "                   data_tabs_inactive_classes=inactive_items_cls, # stringify applied earlier\n",
    "                   **kwargs\n",
    "                ),\n",
    "            Script('htmx.onLoad(function(content) {initTabs();})'),\n",
    "        )"
   ]
  },
  {
   "cell_type": "code",
   "execution_count": 4,
   "metadata": {},
   "outputs": [],
   "source": [
    "#| hide\n",
    "import nbdev; nbdev.nbdev_export()"
   ]
  }
 ],
 "metadata": {
  "kernelspec": {
   "display_name": ".venv",
   "language": "python",
   "name": "python3"
  },
  "language_info": {
   "codemirror_mode": {
    "name": "ipython",
    "version": 3
   },
   "file_extension": ".py",
   "mimetype": "text/x-python",
   "name": "python",
   "nbconvert_exporter": "python",
   "pygments_lexer": "ipython3",
   "version": "3.12.7"
  }
 },
 "nbformat": 4,
 "nbformat_minor": 2
}

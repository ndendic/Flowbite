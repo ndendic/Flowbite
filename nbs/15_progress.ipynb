{
 "cells": [
  {
   "cell_type": "code",
   "execution_count": 1,
   "metadata": {},
   "outputs": [],
   "source": [
    "#| default_exp progress"
   ]
  },
  {
   "cell_type": "code",
   "execution_count": 2,
   "metadata": {},
   "outputs": [],
   "source": [
    "#| export\n",
    "from typing import Literal\n",
    "from fasthtml.common import FT\n",
    "from fastcore.all import *\n",
    "from fastbite.core import *\n",
    "from fastbite.base import *\n",
    "from fastbite.base_styles import *"
   ]
  },
  {
   "cell_type": "code",
   "execution_count": 3,
   "metadata": {},
   "outputs": [],
   "source": [
    "#| export\n",
    "class ProgressT(VEnum):\n",
    "    progress_primary = 'rounded-full bg-primary-600'\n",
    "    progress_dark = 'rounded-full bg-gray-700 dark:bg-gray-300'\n",
    "    progress_blue = 'rounded-full bg-blue-600'\n",
    "    progress_red = 'rounded-full bg-red-600'\n",
    "    progress_green = 'rounded-full bg-green-600'\n",
    "    progress_yellow = 'rounded-full bg-yellow-600'\n",
    "    progress_purple = 'rounded-full bg-purple-600'\n",
    "    progress_pink = 'rounded-full bg-pink-600'\n",
    "\n",
    "    bg_default = 'w-full rounded-full bg-gray-200 dark:bg-gray-700'\n",
    "    bg_primary = 'w-full rounded-full bg-primary-600'\n",
    "    bg_dark = 'w-full rounded-full bg-gray-300 dark:bg-gray-700'\n",
    "    bg_blue = 'w-full rounded-full bg-blue-600'\n",
    "    bg_red = 'w-full rounded-full bg-red-600'\n",
    "    bg_green = 'w-full rounded-full bg-green-600'\n",
    "    bg_yellow = 'w-full rounded-full bg-yellow-600'\n",
    "    \n",
    "def Progress(*c, # Components to put in the progress bar (often nothing)\n",
    "             label:str|FT='', # Label of the progress bar (often a string or a component)\n",
    "             label_cls=TextT.sm, # Additional classes on the label\n",
    "             progress_cls=ProgressT.progress_primary, # Additional classes on the progress bar\n",
    "             bg_cls=ProgressT.bg_default, # Additional classes on the background of the progress bar\n",
    "             value=\"\", # Value of the progress bar in percentage from 0 to 100\n",
    "             size:Literal['sm', 'md', 'lg']='md',\n",
    "             cls=(), # Additional classes on the progress bar\n",
    "             **kwargs # Additional args for `Progress` tag\n",
    "             )->FT: # Progress(..., cls='uk-progress')\n",
    "    \"Creates a progress bar\"\n",
    "    size_map = {\n",
    "        'sm': 'h-1.5',\n",
    "        'md': 'h-2.5',\n",
    "        'lg': 'h-4',\n",
    "        'xl': 'h-6'\n",
    "    }\n",
    "    size_cls = size_map[size]\n",
    "    return Div(\n",
    "        Div(cls='flex justify-between mb-1')(\n",
    "            Span(label, cls=f'{label_cls}') if isinstance(label, str) else label\n",
    "        ),\n",
    "        Div(\n",
    "            Div(*c,style=f'width: {value}%', cls=(stringify(progress_cls), size_cls,\"text-xs font-medium text-center p-0.5 leading-none\")),\n",
    "            cls=(stringify(bg_cls),stringify(cls), size_cls),\n",
    "            **kwargs\n",
    "        )\n",
    "    )\n",
    "        # return fh.Progress(*c, value=value, max=max, cls=(stringify(cls)), **kwargs)\n"
   ]
  },
  {
   "cell_type": "code",
   "execution_count": 4,
   "metadata": {},
   "outputs": [],
   "source": [
    "#| hide\n",
    "import nbdev; nbdev.nbdev_export()"
   ]
  }
 ],
 "metadata": {
  "kernelspec": {
   "display_name": ".venv",
   "language": "python",
   "name": "python3"
  },
  "language_info": {
   "codemirror_mode": {
    "name": "ipython",
    "version": 3
   },
   "file_extension": ".py",
   "mimetype": "text/x-python",
   "name": "python",
   "nbconvert_exporter": "python",
   "pygments_lexer": "ipython3",
   "version": "3.12.7"
  }
 },
 "nbformat": 4,
 "nbformat_minor": 2
}

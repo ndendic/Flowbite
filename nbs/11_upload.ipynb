{
 "cells": [
  {
   "cell_type": "code",
   "execution_count": 7,
   "metadata": {},
   "outputs": [],
   "source": [
    "#| default_exp components/upload"
   ]
  },
  {
   "cell_type": "code",
   "execution_count": 8,
   "metadata": {},
   "outputs": [],
   "source": [
    "#| export\n",
    "import fasthtml.common as fh\n",
    "from fasthtml.common import FT\n",
    "from fastcore.all import *"
   ]
  },
  {
   "cell_type": "code",
   "execution_count": 9,
   "metadata": {},
   "outputs": [
    {
     "ename": "NameError",
     "evalue": "name 'TextT' is not defined",
     "output_type": "error",
     "traceback": [
      "\u001b[31m---------------------------------------------------------------------------\u001b[39m",
      "\u001b[31mNameError\u001b[39m                                 Traceback (most recent call last)",
      "\u001b[36mCell\u001b[39m\u001b[36m \u001b[39m\u001b[32mIn[9]\u001b[39m\u001b[32m, line 29\u001b[39m\n\u001b[32m     18\u001b[39m     \u001b[38;5;28;01mif\u001b[39;00m name: input_kwargs[\u001b[33m'\u001b[39m\u001b[33mname\u001b[39m\u001b[33m'\u001b[39m] = name\n\u001b[32m     19\u001b[39m     \u001b[38;5;28;01mreturn\u001b[39;00m Div(\u001b[38;5;28mcls\u001b[39m=\u001b[38;5;28mcls\u001b[39m)(\n\u001b[32m     20\u001b[39m         FormLabel(label, fr=\u001b[38;5;28mid\u001b[39m, \u001b[38;5;28mcls\u001b[39m=(lbl_cls,\u001b[33m'\u001b[39m\u001b[33mblock mb-2\u001b[39m\u001b[33m'\u001b[39m)),\n\u001b[32m     21\u001b[39m         fh.Input(aria_describedby=\u001b[33mf\u001b[39m\u001b[33m'\u001b[39m\u001b[38;5;132;01m{\u001b[39;00m\u001b[38;5;28mid\u001b[39m\u001b[38;5;132;01m}\u001b[39;00m\u001b[33m_help\u001b[39m\u001b[33m'\u001b[39m, \u001b[38;5;28mcls\u001b[39m=button_cls,**input_kwargs),\n\u001b[32m     22\u001b[39m         P(help_text, \u001b[38;5;28mid\u001b[39m=\u001b[33mf\u001b[39m\u001b[33m'\u001b[39m\u001b[38;5;132;01m{\u001b[39;00m\u001b[38;5;28mid\u001b[39m\u001b[38;5;132;01m}\u001b[39;00m\u001b[33m_help\u001b[39m\u001b[33m'\u001b[39m, \u001b[38;5;28mcls\u001b[39m=\u001b[33m'\u001b[39m\u001b[33mmt-1 text-sm text-gray-500 dark:text-gray-300\u001b[39m\u001b[33m'\u001b[39m)\n\u001b[32m     23\u001b[39m     )\n\u001b[32m     26\u001b[39m \u001b[38;5;28;01mdef\u001b[39;00m\u001b[38;5;250m \u001b[39m\u001b[34mUploadZone\u001b[39m(label:\u001b[38;5;28mstr\u001b[39m|FT = \u001b[38;5;28;01mNone\u001b[39;00m, \u001b[38;5;66;03m# Contents of Upload tag button (often text)\u001b[39;00m\n\u001b[32m     27\u001b[39m           help_text:\u001b[38;5;28mstr\u001b[39m|FT = \u001b[38;5;28;01mNone\u001b[39;00m, \u001b[38;5;66;03m# Help text for the input\u001b[39;00m\n\u001b[32m     28\u001b[39m           \u001b[38;5;28mcls\u001b[39m=\u001b[33m\"\u001b[39m\u001b[33mmb-5\u001b[39m\u001b[33m\"\u001b[39m, \u001b[38;5;66;03m# Classes in addition to Upload styling\u001b[39;00m\n\u001b[32m---> \u001b[39m\u001b[32m29\u001b[39m           lbl_cls=\u001b[43mTextT\u001b[49m.sm, \u001b[38;5;66;03m# Classes for the label\u001b[39;00m\n\u001b[32m     30\u001b[39m           multiple=\u001b[38;5;28;01mFalse\u001b[39;00m, \u001b[38;5;66;03m# Whether to allow multiple file selection\u001b[39;00m\n\u001b[32m     31\u001b[39m           accept=\u001b[38;5;28;01mNone\u001b[39;00m, \u001b[38;5;66;03m# File types to accept (e.g. 'image/*')\u001b[39;00m\n\u001b[32m     32\u001b[39m           button_cls=\u001b[33m'\u001b[39m\u001b[33mblock w-full text-sm text-gray-900 border border-gray-300 rounded-lg cursor-pointer bg-gray-50 dark:text-gray-400 focus:outline-none dark:bg-gray-700 dark:border-gray-600 dark:placeholder-gray-400\u001b[39m\u001b[33m'\u001b[39m, \u001b[38;5;66;03m# Classes for the button\u001b[39;00m\n\u001b[32m     33\u001b[39m           \u001b[38;5;28mid\u001b[39m=\u001b[33m'\u001b[39m\u001b[33mfile_input\u001b[39m\u001b[33m'\u001b[39m, \u001b[38;5;66;03m# ID for the file input\u001b[39;00m\n\u001b[32m     34\u001b[39m           name=\u001b[38;5;28;01mNone\u001b[39;00m, \u001b[38;5;66;03m# Name for the file input\u001b[39;00m\n\u001b[32m     35\u001b[39m           **kwargs \u001b[38;5;66;03m# Additional args for the outer div\u001b[39;00m\n\u001b[32m     36\u001b[39m           )->FT: \u001b[38;5;66;03m# Div(Input(type='file'), Button(...))\u001b[39;00m\n\u001b[32m     37\u001b[39m     \u001b[33m\"\u001b[39m\u001b[33mA file upload component with default styling\u001b[39m\u001b[33m\"\u001b[39m\n\u001b[32m     38\u001b[39m     input_kwargs = {\u001b[33m'\u001b[39m\u001b[33mtype\u001b[39m\u001b[33m'\u001b[39m: \u001b[33m'\u001b[39m\u001b[33mfile\u001b[39m\u001b[33m'\u001b[39m, \u001b[33m'\u001b[39m\u001b[33mmultiple\u001b[39m\u001b[33m'\u001b[39m: multiple}\n",
      "\u001b[31mNameError\u001b[39m: name 'TextT' is not defined"
     ]
    }
   ],
   "source": [
    "#| export\n",
    "#| export\n",
    "def Upload(label:str|FT = None, # Contents of Upload tag button (often text)\n",
    "          help_text:str|FT = None, # Help text for the input\n",
    "          cls=\"mb-5\", # Classes in addition to Upload styling\n",
    "          lbl_cls='block mb-2 text-sm font-medium text-gray-900 dark:text-white', # Classes for the label\n",
    "          multiple=False, # Whether to allow multiple file selection\n",
    "          accept=None, # File types to accept (e.g. 'image/*')\n",
    "          button_cls='block w-full text-sm text-gray-900 border border-gray-300 rounded-lg cursor-pointer bg-gray-50 dark:text-gray-400 focus:outline-none dark:bg-gray-700 dark:border-gray-600 dark:placeholder-gray-400', # Classes for the button\n",
    "          id='file_input', # ID for the file input\n",
    "          name=None, # Name for the file input\n",
    "          **kwargs # Additional args for the outer div\n",
    "          )->FT: # Div(Input(type='file'), Button(...))\n",
    "    \"A file upload component with default styling\"\n",
    "    input_kwargs = {'type': 'file', 'multiple': multiple}\n",
    "    if accept: input_kwargs['accept'] = accept\n",
    "    if id: input_kwargs['id'] = id\n",
    "    if name: input_kwargs['name'] = name\n",
    "    return Div(cls=cls)(\n",
    "        FormLabel(label, fr=id, cls=(lbl_cls,'block mb-2')),\n",
    "        fh.Input(aria_describedby=f'{id}_help', cls=button_cls,**input_kwargs),\n",
    "        P(help_text, id=f'{id}_help', cls='mt-1 text-sm text-gray-500 dark:text-gray-300')\n",
    "    )\n",
    "\n",
    "\n",
    "def UploadZone(label:str|FT = None, # Contents of Upload tag button (often text)\n",
    "          help_text:str|FT = None, # Help text for the input\n",
    "          cls=\"mb-5\", # Classes in addition to Upload styling\n",
    "          lbl_cls=TextT.sm, # Classes for the label\n",
    "          multiple=False, # Whether to allow multiple file selection\n",
    "          accept=None, # File types to accept (e.g. 'image/*')\n",
    "          button_cls='block w-full text-sm text-gray-900 border border-gray-300 rounded-lg cursor-pointer bg-gray-50 dark:text-gray-400 focus:outline-none dark:bg-gray-700 dark:border-gray-600 dark:placeholder-gray-400', # Classes for the button\n",
    "          id='file_input', # ID for the file input\n",
    "          name=None, # Name for the file input\n",
    "          **kwargs # Additional args for the outer div\n",
    "          )->FT: # Div(Input(type='file'), Button(...))\n",
    "    \"A file upload component with default styling\"\n",
    "    input_kwargs = {'type': 'file', 'multiple': multiple}\n",
    "    if accept: input_kwargs['accept'] = accept\n",
    "    if id: input_kwargs['id'] = id\n",
    "    if name: input_kwargs['name'] = name\n",
    "    return Div(\n",
    "            FormLabel(\n",
    "                Div(\n",
    "                    \n",
    "                    Icon(\"cloud-upload\",cls='w-8 h-8 mb-4 text-gray-500 dark:text-gray-400'),\n",
    "                    P(label,cls=(lbl_cls,'mb-2')),\n",
    "                    P(help_text, cls='text-xs text-gray-500 dark:text-gray-400'),\n",
    "                    cls='flex flex-col items-center justify-center pt-5 pb-6'\n",
    "                ),\n",
    "                Input(id=id, type='file', cls='hidden'),fr=id,\n",
    "                cls='flex flex-col items-center justify-center w-full h-64 border-2 border-gray-300 border-dashed rounded-lg cursor-pointer bg-gray-50 dark:hover:bg-gray-800 dark:bg-gray-700 hover:bg-gray-100 dark:border-gray-600 dark:hover:border-gray-500 dark:hover:bg-gray-600'\n",
    "            ),\n",
    "            cls='flex items-center justify-center w-full'\n",
    "        )"
   ]
  },
  {
   "cell_type": "code",
   "execution_count": 4,
   "metadata": {},
   "outputs": [],
   "source": [
    "#| hide\n",
    "import nbdev; nbdev.nbdev_export()"
   ]
  }
 ],
 "metadata": {
  "kernelspec": {
   "display_name": ".venv",
   "language": "python",
   "name": "python3"
  },
  "language_info": {
   "codemirror_mode": {
    "name": "ipython",
    "version": 3
   },
   "file_extension": ".py",
   "mimetype": "text/x-python",
   "name": "python",
   "nbconvert_exporter": "python",
   "pygments_lexer": "ipython3",
   "version": "3.12.7"
  }
 },
 "nbformat": 4,
 "nbformat_minor": 2
}

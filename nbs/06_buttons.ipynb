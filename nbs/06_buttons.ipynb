{
 "cells": [
  {
   "cell_type": "code",
   "execution_count": 1,
   "metadata": {},
   "outputs": [],
   "source": [
    "#| default_exp buttons"
   ]
  },
  {
   "cell_type": "code",
   "execution_count": 2,
   "metadata": {},
   "outputs": [],
   "source": [
    "#| export\n",
    "from enum import Enum\n",
    "import fasthtml.common as fh\n",
    "from fasthtml.common import FT\n",
    "from fastcore.all import *\n",
    "from fastbite.core import *\n",
    "from fastbite.base import *"
   ]
  },
  {
   "cell_type": "code",
   "execution_count": 3,
   "metadata": {},
   "outputs": [],
   "source": [
    "#| export\n",
    "class BgColor(VEnum):\n",
    "    \"\"\"Button style variants for Flowbite components\"\"\"\n",
    "    # Base styles\n",
    "    primary = \"bg-primary-700 hover:bg-primary-800 dark:bg-primary-600 dark:hover:bg-primary-700  text-white focus:ring-primary-300 dark:focus:ring-primary-800\"\n",
    "    blue = \"bg-blue-700 hover:bg-blue-800 dark:bg-blue-600 dark:hover:bg-blue-700 dark:focus:ring-blue-800 text-white focus:ring-blue-300\"\n",
    "    green = \"bg-green-700 hover:bg-green-800 dark:bg-green-600 dark:hover:bg-green-700 dark:focus:ring-green-800 text-white focus:ring-green-300\"\n",
    "    cyan = \"bg-cyan-700 hover:bg-cyan-800 dark:bg-cyan-600 dark:hover:bg-cyan-700 dark:focus:ring-cyan-800 text-white focus:ring-cyan-300\"\n",
    "    teal = \"bg-teal-700 hover:bg-teal-800 dark:bg-teal-600 dark:hover:bg-teal-700 dark:focus:ring-teal-800 text-white focus:ring-teal-300\"\n",
    "    lime = \"bg-lime-700 hover:bg-lime-800 dark:bg-lime-600 dark:hover:bg-lime-700 dark:focus:ring-lime-800 text-white focus:ring-lime-300\"\n",
    "    red = \"bg-red-700 hover:bg-red-800 dark:bg-red-600 dark:hover:bg-red-700 dark:focus:ring-red-900 text-white focus:ring-red-300\"\n",
    "    yellow = \"bg-yellow-400 hover:bg-yellow-500 dark:focus:ring-yellow-900 text-white focus:ring-yellow-300\"\n",
    "    pink = \"bg-pink-700 hover:bg-pink-800 dark:bg-pink-600 dark:hover:bg-pink-700 dark:focus:ring-pink-900 text-white focus:ring-pink-300\"\n",
    "    purple = \"bg-purple-700 hover:bg-purple-800 dark:bg-purple-600 dark:hover:bg-purple-700 dark:focus:ring-purple-900 text-white focus:ring-purple-300\"\n",
    "    \n",
    "    grad_primary = \"text-white bg-gradient-to-r from-primary-500 via-primary-600 to-primary-700 hover:bg-gradient-to-br focus:ring-4 focus:outline-none focus:ring-primary-300 dark:focus:ring-primary-800\"\n",
    "    grad_blue = \"text-white bg-gradient-to-r from-blue-500 via-blue-600 to-blue-700 hover:bg-gradient-to-br focus:ring-4 focus:outline-none focus:ring-blue-300 dark:focus:ring-blue-800\"\n",
    "    grad_green = \"text-white bg-gradient-to-r from-green-500 via-green-600 to-green-700 hover:bg-gradient-to-br focus:ring-4 focus:outline-none focus:ring-green-300 dark:focus:ring-green-800\"\n",
    "    grad_cyan = \"text-white bg-gradient-to-r from-cyan-500 via-cyan-600 to-cyan-700 hover:bg-gradient-to-br focus:ring-4 focus:outline-none focus:ring-cyan-300 dark:focus:ring-cyan-800\"\n",
    "    grad_teal = \"text-white bg-gradient-to-r from-teal-500 via-teal-600 to-teal-700 hover:bg-gradient-to-br focus:ring-4 focus:outline-none focus:ring-teal-300 dark:focus:ring-teal-800\"\n",
    "    grad_lime = \"text-white bg-gradient-to-r from-lime-500 via-lime-600 to-lime-700 hover:bg-gradient-to-br focus:ring-4 focus:outline-none focus:ring-lime-300 dark:focus:ring-lime-800\"\n",
    "    grad_red = \"text-white bg-gradient-to-r from-red-500 via-red-600 to-red-700 hover:bg-gradient-to-br focus:ring-4 focus:outline-none focus:ring-red-300 dark:focus:ring-red-800\"\n",
    "    grad_yellow = \"text-white bg-gradient-to-r from-yellow-500 via-yellow-600 to-yellow-700 hover:bg-gradient-to-br focus:ring-4 focus:outline-none focus:ring-yellow-300 dark:focus:ring-yellow-800\"\n",
    "    grad_pink = \"text-white bg-gradient-to-r from-pink-500 via-pink-600 to-pink-700 hover:bg-gradient-to-br focus:ring-4 focus:outline-none focus:ring-pink-300 dark:focus:ring-pink-800\"\n",
    "    grad_purple = \"text-white bg-gradient-to-r from-purple-500 via-purple-600 to-purple-700 hover:bg-gradient-to-br focus:ring-4 focus:outline-none focus:ring-purple-300 dark:focus:ring-purple-800\"\n",
    "    #Duotone\n",
    "    purple_blue = \"text-white bg-gradient-to-br from-purple-600 to-blue-500 hover:bg-gradient-to-bl focus:ring-4 focus:outline-none focus:ring-blue-300 dark:focus:ring-blue-800\"\n",
    "    cyan_blue = \"text-white bg-gradient-to-r from-cyan-500 to-blue-500 hover:bg-gradient-to-bl focus:ring-4 focus:outline-none focus:ring-cyan-300 dark:focus:ring-cyan-800\"\n",
    "    green_blue = \"text-white bg-gradient-to-br from-green-400 to-blue-600 hover:bg-gradient-to-bl focus:ring-4 focus:outline-none focus:ring-green-200 dark:focus:ring-green-800\"\n",
    "    purple_pink = \"text-white bg-gradient-to-r from-purple-500 to-pink-500 hover:bg-gradient-to-l focus:ring-4 focus:outline-none focus:ring-purple-200 dark:focus:ring-purple-800\"\n",
    "    pink_orange = \"text-white bg-gradient-to-br from-pink-500 to-orange-400 hover:bg-gradient-to-bl focus:ring-4 focus:outline-none focus:ring-pink-200 dark:focus:ring-pink-800\"\n",
    "    teal_lime = \"text-gray-900 bg-gradient-to-r from-teal-200 to-lime-200 hover:bg-gradient-to-l hover:from-teal-200 hover:to-lime-200 focus:ring-4 focus:outline-none focus:ring-lime-200 dark:focus:ring-teal-700\"\n",
    "    red_yellow = \"text-gray-900 bg-gradient-to-r from-red-200 via-red-300 to-yellow-200 hover:bg-gradient-to-bl focus:ring-4 focus:outline-none focus:ring-red-100 dark:focus:ring-red-400\"\n",
    "\n",
    "class ButtonSize(VEnum):\n",
    "    \"\"\"Button size variants\"\"\"\n",
    "    xs = \"px-3 py-2 text-xs font-medium\"\n",
    "    sm = \"px-3 py-2 text-sm font-medium\"\n",
    "    base = \"px-5 py-2.5 text-sm font-medium\"\n",
    "    lg = \"px-5 py-3 text-base font-medium\"\n",
    "    xl = \"px-6 py-3.5 text-base font-medium\"\n",
    "    \n",
    "class ButtonOutline(VEnum):\n",
    "    \"\"\"Button outline variants\"\"\"\n",
    "    default = \"border border-blue-700 hover:bg-blue-800 dark:border-blue-500 dark:hover:bg-blue-500 text-blue-700 hover:text-white dark:text-blue-500 dark:hover:text-white focus:ring-blue-300 dark:focus:ring-blue-800\"\n",
    "    dark = \"border border-gray-800 hover:bg-gray-900 dark:border-gray-600 dark:hover:bg-gray-600 text-gray-900 hover:text-white dark:text-gray-400 dark:hover:text-white focus:ring-gray-300 dark:focus:ring-gray-800\"\n",
    "    green = \"border border-green-700 hover:bg-green-800 dark:border-green-500 dark:hover:bg-green-600 text-green-700 hover:text-white dark:text-green-500 dark:hover:text-white focus:ring-green-300 dark:focus:ring-green-800\"\n",
    "    red = \"border border-red-700 hover:bg-red-800 dark:border-red-500 dark:hover:bg-red-600 text-red-700 hover:text-white dark:text-red-500 dark:hover:text-white focus:ring-red-300 dark:focus:ring-red-900\"\n",
    "    yellow = \"border border-yellow-400 hover:bg-yellow-500 dark:border-yellow-300 dark:hover:bg-yellow-400 text-yellow-400 hover:text-white dark:text-yellow-300 dark:hover:text-white focus:ring-yellow-300 dark:focus:ring-yellow-900\"\n",
    "    purple = \"border border-purple-700 hover:bg-purple-800 dark:border-purple-400 dark:hover:bg-purple-500 text-purple-700 hover:text-white dark:text-purple-400 dark:hover:text-white focus:ring-purple-300 dark:focus:ring-purple-900\"\n",
    "\n",
    "class ButtonT(VEnum):\n",
    "    \"\"\"Button type variants\"\"\"\n",
    "    primary = BgColor.primary.value\n",
    "    secondary = \"bg-white border border-gray-300 hover:bg-gray-100 dark:bg-gray-800 dark:text-white dark:border-gray-600 dark:hover:bg-gray-700 dark:hover:border-gray-600 text-gray-900 focus:ring-gray-200 dark:focus:ring-gray-700\"\n",
    "    ghost = \"hover:bg-gray-100 dark:hover:text-white dark:hover:bg-gray-700 focus:ring-gray-300 dark:focus:ring-gray-700 cursor-pointer\"\n",
    "    link = \"dark:text-white cursor-pointer\"\n",
    "    success = BgColor.green.value   \n",
    "    warning = BgColor.yellow.value\n",
    "    error = BgColor.red.value\n",
    "    info = BgColor.blue.value\n",
    "\n",
    "class AT(VEnum):\n",
    "    default = \"underline\"\n",
    "    primary = \"text-primary-600 dark:text-primary-500 hover:underline\"\n",
    "    muted = \"text-gray-500 dark:text-gray-400 hover:underline\"\n",
    "    text = \"text-gray-900 dark:text-white hover:underline\"\n",
    "    classic = 'text-blue-600 hover:text-blue-800 underline'\n"
   ]
  },
  {
   "cell_type": "code",
   "execution_count": 4,
   "metadata": {},
   "outputs": [],
   "source": [
    "#| export\n",
    "def Button(*c: Union[str, FT],cls: Union[str, Enum]=ButtonT.primary, shape: Union[str, Enum]=Round.default, size: Union[str, Enum]=ButtonSize.base, submit=True, **kwargs) -> FT: \n",
    "    base_class = \"text-center inline-flex items-center\"\n",
    "    if 'type' not in kwargs: kwargs['type'] = 'submit' if submit else 'button'\n",
    "    return fh.Button(*c, cls=(base_class, stringify(shape), stringify(cls), stringify(size)), **kwargs)"
   ]
  },
  {
   "cell_type": "code",
   "execution_count": 5,
   "metadata": {},
   "outputs": [],
   "source": [
    "#| hide\n",
    "import nbdev; nbdev.nbdev_export()"
   ]
  }
 ],
 "metadata": {
  "kernelspec": {
   "display_name": ".venv",
   "language": "python",
   "name": "python3"
  },
  "language_info": {
   "codemirror_mode": {
    "name": "ipython",
    "version": 3
   },
   "file_extension": ".py",
   "mimetype": "text/x-python",
   "name": "python",
   "nbconvert_exporter": "python",
   "pygments_lexer": "ipython3",
   "version": "3.12.7"
  }
 },
 "nbformat": 4,
 "nbformat_minor": 2
}

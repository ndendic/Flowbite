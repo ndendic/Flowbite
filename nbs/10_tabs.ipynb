{
 "cells": [
  {
   "cell_type": "code",
   "execution_count": 1,
   "metadata": {},
   "outputs": [],
   "source": [
    "#| default_exp tabs"
   ]
  },
  {
   "cell_type": "code",
   "execution_count": 2,
   "metadata": {},
   "outputs": [],
   "source": [
    "#| export\n",
    "from enum import Enum\n",
    "import fasthtml.common as fh\n",
    "from fasthtml.common import FT\n",
    "from fastcore.all import *\n",
    "from fastbite.core import *\n",
    "from fastbite.base import *\n",
    "from fastbite.base_styles import *\n",
    "from fastbite.containers import *"
   ]
  },
  {
   "cell_type": "code",
   "execution_count": 3,
   "metadata": {},
   "outputs": [],
   "source": [
    "#| export\n",
    "#| export\n",
    "def TabItem(text:str, # Components\n",
    "            controls:str, # Controls of the tab\n",
    "            **kwargs # Additional args for the `Li`\n",
    "           )->FT: # Tab item\n",
    "    ctrl = f'{controls}' if controls else text\n",
    "    \"A TabItem where children will be different tabs\"\n",
    "    return Li(role='presentation', cls='me-2')(\n",
    "            Button(text, id=f'{text}-tab', data_tabs_target=f'#{ctrl}', type='button', role='tab', aria_controls=ctrl, aria_selected='false', cls='inline-block p-4 border-b-2'+Round.none, **kwargs)\n",
    "        )\n",
    "\n",
    "def TabContainer(*li, # Components\n",
    "                  cls='', # Additional classes on the `Ul`,\n",
    "                  active_items_cls='text-primary-600 hover:text-primary-600 dark:text-primary-500 dark:hover:text-primary-500 border-primary-600 dark:border-primary-500', # Additional classes on the active items\n",
    "                  inactive_items_cls='dark:border-transparent text-gray-500 hover:text-gray-600 dark:text-gray-400 border-gray-100 hover:border-gray-300 dark:border-gray-700 dark:hover:text-gray-300', # Additional classes on the inactive items\n",
    "                  **kwargs # Additional args for the `Ul`\n",
    "                 )->FT: # Tab container\n",
    "    \"A TabContainer where children will be different tabs\"\n",
    "    base_cls = \"-mb-px text-sm font-medium text-center text-gray-500 dark:text-gray-400\"\n",
    "    ul_cls = \"flex flex-wrap -mb-px text-sm font-medium text-center text-gray-500 dark:text-gray-400\"\n",
    "    cls = stringify(cls)\n",
    "    return Div(cls=(FlexT.block,FlexT.wrap,base_cls,\"mb-2 border-b-2 border-gray-200 dark:border-gray-700\"),**kwargs)(Ul(cls=(ul_cls,stringify(cls)), data_tabs_active_classes=active_items_cls, data_tabs_inactive_classes=inactive_items_cls,**kwargs)(*li))"
   ]
  },
  {
   "cell_type": "code",
   "execution_count": 4,
   "metadata": {},
   "outputs": [],
   "source": [
    "#| hide\n",
    "import nbdev; nbdev.nbdev_export()"
   ]
  }
 ],
 "metadata": {
  "kernelspec": {
   "display_name": ".venv",
   "language": "python",
   "name": "python3"
  },
  "language_info": {
   "codemirror_mode": {
    "name": "ipython",
    "version": 3
   },
   "file_extension": ".py",
   "mimetype": "text/x-python",
   "name": "python",
   "nbconvert_exporter": "python",
   "pygments_lexer": "ipython3",
   "version": "3.12.7"
  }
 },
 "nbformat": 4,
 "nbformat_minor": 2
}

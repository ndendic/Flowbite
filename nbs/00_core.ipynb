{
 "cells": [
  {
   "cell_type": "markdown",
   "metadata": {},
   "source": [
    "# core\n",
    "\n",
    "> Fill in a module description here"
   ]
  },
  {
   "cell_type": "code",
   "execution_count": 1,
   "metadata": {},
   "outputs": [],
   "source": [
    "#| default_exp components/core"
   ]
  },
  {
   "cell_type": "code",
   "execution_count": 2,
   "metadata": {},
   "outputs": [],
   "source": [
    "#| hide\n",
    "#| export\n",
    "from enum import Enum, auto\n",
    "from fastcore.all import *"
   ]
  },
  {
   "cell_type": "code",
   "execution_count": 3,
   "metadata": {},
   "outputs": [],
   "source": [
    "#| hide\n",
    "from nbdev.showdoc import show_doc\n",
    "show_doc = partial(show_doc, title_level=4)"
   ]
  },
  {
   "cell_type": "code",
   "execution_count": 4,
   "metadata": {},
   "outputs": [],
   "source": [
    "#| export\n",
    "flowbite_hdrs = (\n",
    "    # Script(src=\"https://unpkg.com/@tailwindcss/browser@4\"),\n",
    "    Link(\n",
    "        rel=\"stylesheet\",\n",
    "        href=\"https://cdn.jsdelivr.net/npm/flowbite@3.1.2/dist/flowbite.min.css\",\n",
    "    ),\n",
    "    Script(src='https://unpkg.com/lucide@latest'),\n",
    "    Script(\n",
    "        \"if (localStorage.getItem('color-theme') === 'dark' || (!('color-theme' in localStorage) && window.matchMedia('(prefers-color-scheme: dark)').matches)) {\\r\\n        document.documentElement.classList.add('dark');\\r\\n    } else {\\r\\n        document.documentElement.classList.remove('dark')\\r\\n    }\"\n",
    "    ),\n",
    "    Script(src='https://cdn.jsdelivr.net/npm/simple-datatables@9.0.3', type='text/javascript')\n",
    ")\n",
    "\n",
    "flowbite_ftrs = [\n",
    "    Script(src=\"https://cdn.jsdelivr.net/npm/flowbite@3.1.2/dist/flowbite.min.js\"),\n",
    "    Script(\"\"\"\n",
    "    var themeToggleDarkIcon = document.getElementById('theme-toggle-dark-icon');\n",
    "        var themeToggleLightIcon = document.getElementById('theme-toggle-light-icon');\n",
    "\n",
    "        // Change the icons inside the button based on previous settings\n",
    "        if (localStorage.getItem('color-theme') === 'dark' || (!('color-theme' in localStorage) && window.matchMedia('(prefers-color-scheme: dark)').matches)) {\n",
    "            themeToggleLightIcon.classList.remove('hidden');\n",
    "        } else {\n",
    "            themeToggleDarkIcon.classList.remove('hidden');\n",
    "        }\n",
    "\n",
    "        var themeToggleBtn = document.getElementById('theme-toggle');\n",
    "\n",
    "        themeToggleBtn.addEventListener('click', function() {\n",
    "\n",
    "            // toggle icons inside button\n",
    "            themeToggleDarkIcon.classList.toggle('hidden');\n",
    "            themeToggleLightIcon.classList.toggle('hidden');\n",
    "\n",
    "            // if set via local storage previously\n",
    "            if (localStorage.getItem('color-theme')) {\n",
    "                if (localStorage.getItem('color-theme') === 'light') {\n",
    "                    document.documentElement.classList.add('dark');\n",
    "                    localStorage.setItem('color-theme', 'dark');\n",
    "                } else {\n",
    "                    document.documentElement.classList.remove('dark');\n",
    "                    localStorage.setItem('color-theme', 'light');\n",
    "                }\n",
    "\n",
    "            // if NOT set via local storage previously\n",
    "            } else {\n",
    "                if (document.documentElement.classList.contains('dark')) {\n",
    "                    document.documentElement.classList.remove('dark');\n",
    "                    localStorage.setItem('color-theme', 'light');\n",
    "                } else {\n",
    "                    document.documentElement.classList.add('dark');\n",
    "                    localStorage.setItem('color-theme', 'dark');\n",
    "                }\n",
    "            }\n",
    "\n",
    "        });\n",
    "    \"\"\"),\n",
    "    Script(\"\"\"\n",
    "        function setTheme(theme) {\n",
    "            document.documentElement.setAttribute('data-theme', theme);\n",
    "            localStorage.setItem('theme', theme);\n",
    "        }\n",
    "\n",
    "        // On page load, set the theme based on localStorage\n",
    "        const savedTheme = localStorage.getItem('theme') || 'none';\n",
    "        document.documentElement.setAttribute('data-theme', savedTheme);\n",
    "        \"\"\"\n",
    "    ),\n",
    "    Script('lucide.createIcons();')\n",
    "\n",
    "]"
   ]
  },
  {
   "cell_type": "code",
   "execution_count": 5,
   "metadata": {},
   "outputs": [],
   "source": [
    "#| export\n",
    "# need a better name, stringify might be too general for what it does \n",
    "def stringify(o # String, Tuple, or Enum options we want stringified\n",
    "             ): # String that can be passed FT comp args (such as `cls=`)\n",
    "    \"Converts input types into strings that can be passed to FT components\"  \n",
    "    if is_listy(o): return ' '.join(map(str,o)) if o else \"\"\n",
    "    return o.__str__()\n",
    "\n",
    "def str2cls(base: str, txt: str) -> str:\n",
    "    \"\"\"Convert base and text into a class name\"\"\"\n",
    "    return f\"{base}-{txt.replace('_', '-')}\".strip('-')"
   ]
  },
  {
   "cell_type": "code",
   "execution_count": 6,
   "metadata": {},
   "outputs": [],
   "source": [
    "assert stringify('abc') == 'abc'\n",
    "assert stringify(('abc','def')) == 'abc def'\n",
    "assert 'bg-blue-500' + stringify(()) == 'bg-blue-500'\n",
    "assert 'bg-blue-500 ' + stringify(\"\") == 'bg-blue-500 '"
   ]
  },
  {
   "cell_type": "code",
   "execution_count": 7,
   "metadata": {},
   "outputs": [],
   "source": [
    "#| export\n",
    "class VEnum(Enum):\n",
    "    def __str__(self): return self.value\n",
    "    def __add__(self, other): return stringify((self,other))\n",
    "    def __radd__(self, other): return stringify((other,self))"
   ]
  },
  {
   "cell_type": "code",
   "execution_count": 8,
   "metadata": {},
   "outputs": [],
   "source": [
    "#| hide\n",
    "import nbdev; nbdev.nbdev_export()"
   ]
  }
 ],
 "metadata": {
  "kernelspec": {
   "display_name": ".venv",
   "language": "python",
   "name": "python3"
  },
  "language_info": {
   "codemirror_mode": {
    "name": "ipython",
    "version": 3
   },
   "file_extension": ".py",
   "mimetype": "text/x-python",
   "name": "python",
   "nbconvert_exporter": "python",
   "pygments_lexer": "ipython3",
   "version": "3.12.7"
  }
 },
 "nbformat": 4,
 "nbformat_minor": 4
}

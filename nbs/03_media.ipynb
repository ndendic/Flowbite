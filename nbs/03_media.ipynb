{
 "cells": [
  {
   "cell_type": "code",
   "execution_count": null,
   "metadata": {},
   "outputs": [],
   "source": [
    "#| default_exp components/media"
   ]
  },
  {
   "cell_type": "code",
   "execution_count": null,
   "metadata": {},
   "outputs": [],
   "source": [
    "#| export\n",
    "import fasthtml.common as fh\n",
    "from fastbite.core import *\n",
    "from fasthtml.common import Span, FT\n",
    "from fastcore.all import *\n",
    "from fastbite.base import *\n",
    "from fastbite.base_styles import *"
   ]
  },
  {
   "cell_type": "code",
   "execution_count": null,
   "metadata": {},
   "outputs": [],
   "source": [
    "#| export\n",
    "def Icon(icon:str, # Icon name from [lucide icons](https://lucide.dev/icons/)\n",
    "           height:int=20, \n",
    "           width:int=20, \n",
    "           stroke_width:int=None, # Thickness of lines\n",
    "           cls=(), # Additional classes on the `Uk_icon` tag\n",
    "           **kwargs # Additional args for `Uk_icon` tag\n",
    "           )->FT: # a lucide icon of the specified size \n",
    "    \"Creates an icon using lucide icons\"\n",
    "    \n",
    "    return I(Script('lucide.createIcons();'),data_lucide=icon, height=height, width=width, stroke_width=stroke_width, cls=cls, **kwargs)\n",
    "\n",
    "def IconLink(icon:str,  # Icon name from [lucide icons](https://lucide.dev/icons/)\n",
    "           height:int=None, \n",
    "           width:int=None, \n",
    "           stroke_width:int=None, # Thickness of lines\n",
    "           cls=(), # Additional classes on the icon\n",
    "           base_cls=(), # Additional classes on the icon\n",
    "           icon_cls=(), # Additional classes on the icon\n",
    "           button:bool=False, # Whether to use a button (defaults to a link)\n",
    "           **kwargs # Additional args for `A` or `Button` tag\n",
    "           )->FT: # a lucide icon  button or link of the specified size\n",
    "    \"Creates an icon link using lucide icons\"\n",
    "    if not base_cls:\n",
    "        base_cls = 'inline-flex items-center p-2 rounded-full' if button else 'inline-flex items-center'\n",
    "    fn = fh.Button if button else fh.A\n",
    "    return fn(cls=(base_cls, stringify(cls)), **kwargs)(\n",
    "        Icon(icon=icon, height=height, width=width, stroke_width=stroke_width, cls=icon_cls))\n",
    "\n",
    "def DiceBearAvatar(seed_name:str, # Seed name (ie 'Isaac Flath')\n",
    "                   h:int=12,         # Height \n",
    "                   w:int=12,  \n",
    "                   cls:str=Round.full,\n",
    "                   **kwargs # Additional args for the span\n",
    "                  ):          # Span with Avatar\n",
    "    \"Creates an Avatar using https://dicebear.com/\"\n",
    "    url = 'https://api.dicebear.com/8.x/lorelei/svg?seed='\n",
    "    return Span(cls=(stringify(cls),f\"relative flex h-{h} w-{w} shrink-0 overflow-hidden bg-gray-200 dark:bg-gray-700\"))(\n",
    "            fh.Img(cls=f\"aspect-square h-{h} w-{w}\", alt=\"Avatar\", loading=\"lazy\", src=f\"{url}{seed_name}\", **kwargs))\n",
    "\n",
    "def PicSumImg(h:int=200,           # Height in pixels\n",
    "              w:int=200,           # Width in pixels\n",
    "              id:int=None,        # Optional specific image ID to use\n",
    "              grayscale:bool=False, # Whether to return grayscale version\n",
    "              blur:int=None,       # Optional blur amount (1-10)\n",
    "              **kwargs             # Additional args for Img tag\n",
    "              )->FT:              # Img tag with picsum image\n",
    "    \"Creates a placeholder image using https://picsum.photos/\"\n",
    "    url = f\"https://picsum.photos\"\n",
    "    if id is not None: url = f\"{url}/id/{id}\"\n",
    "    url = f\"{url}/{w}/{h}\"\n",
    "    if grayscale: url = f\"{url}?grayscale\"\n",
    "    if blur is not None: \n",
    "        url = f\"{url}{'?' if not grayscale else '&'}blur={max(1,min(10,blur))}\"\n",
    "    return fh.Img(src=url, loading=\"lazy\", **kwargs)"
   ]
  },
  {
   "cell_type": "code",
   "execution_count": null,
   "metadata": {},
   "outputs": [
    {
     "ename": "JSONDecodeError",
     "evalue": "Invalid control character at: line 24 column 33 (char 499)",
     "output_type": "error",
     "traceback": [
      "\u001b[31m---------------------------------------------------------------------------\u001b[39m",
      "\u001b[31mJSONDecodeError\u001b[39m                           Traceback (most recent call last)",
      "\u001b[36mCell\u001b[39m\u001b[36m \u001b[39m\u001b[32mIn[15]\u001b[39m\u001b[32m, line 2\u001b[39m\n\u001b[32m      1\u001b[39m \u001b[38;5;66;03m#| hide\u001b[39;00m\n\u001b[32m----> \u001b[39m\u001b[32m2\u001b[39m \u001b[38;5;28;01mimport\u001b[39;00m\u001b[38;5;250m \u001b[39m\u001b[34;01mnbdev\u001b[39;00m; nbdev.nbdev_export()\n",
      "\u001b[36mFile \u001b[39m\u001b[32m~/WebDev/Flowbite/.venv/lib/python3.12/site-packages/fastcore/script.py:116\u001b[39m, in \u001b[36mcall_parse.<locals>._f\u001b[39m\u001b[34m(*args, **kwargs)\u001b[39m\n\u001b[32m    113\u001b[39m \u001b[38;5;129m@wraps\u001b[39m(func)\n\u001b[32m    114\u001b[39m \u001b[38;5;28;01mdef\u001b[39;00m\u001b[38;5;250m \u001b[39m\u001b[34m_f\u001b[39m(*args, **kwargs):\n\u001b[32m    115\u001b[39m     mod = inspect.getmodule(inspect.currentframe().f_back)\n\u001b[32m--> \u001b[39m\u001b[32m116\u001b[39m     \u001b[38;5;28;01mif\u001b[39;00m \u001b[38;5;129;01mnot\u001b[39;00m mod: \u001b[38;5;28;01mreturn\u001b[39;00m \u001b[43mfunc\u001b[49m\u001b[43m(\u001b[49m\u001b[43m*\u001b[49m\u001b[43margs\u001b[49m\u001b[43m,\u001b[49m\u001b[43m \u001b[49m\u001b[43m*\u001b[49m\u001b[43m*\u001b[49m\u001b[43mkwargs\u001b[49m\u001b[43m)\u001b[49m\n\u001b[32m    117\u001b[39m     \u001b[38;5;28;01mif\u001b[39;00m \u001b[38;5;129;01mnot\u001b[39;00m SCRIPT_INFO.func \u001b[38;5;129;01mand\u001b[39;00m mod.\u001b[34m__name__\u001b[39m==\u001b[33m\"\u001b[39m\u001b[33m__main__\u001b[39m\u001b[33m\"\u001b[39m: SCRIPT_INFO.func = func.\u001b[34m__name__\u001b[39m\n\u001b[32m    118\u001b[39m     \u001b[38;5;28;01mif\u001b[39;00m \u001b[38;5;28mlen\u001b[39m(sys.argv)>\u001b[32m1\u001b[39m \u001b[38;5;129;01mand\u001b[39;00m sys.argv[\u001b[32m1\u001b[39m]==\u001b[33m'\u001b[39m\u001b[33m'\u001b[39m: sys.argv.pop(\u001b[32m1\u001b[39m)\n",
      "\u001b[36mFile \u001b[39m\u001b[32m~/WebDev/Flowbite/.venv/lib/python3.12/site-packages/nbdev/doclinks.py:155\u001b[39m, in \u001b[36mnbdev_export\u001b[39m\u001b[34m(path, procs, **kwargs)\u001b[39m\n\u001b[32m    153\u001b[39m     procs = [\u001b[38;5;28mgetattr\u001b[39m(nbdev.export, p) \u001b[38;5;28;01mfor\u001b[39;00m p \u001b[38;5;129;01min\u001b[39;00m L(procs)]\n\u001b[32m    154\u001b[39m files = nbglob(path=path, as_path=\u001b[38;5;28;01mTrue\u001b[39;00m, **kwargs).sorted(\u001b[33m'\u001b[39m\u001b[33mname\u001b[39m\u001b[33m'\u001b[39m)\n\u001b[32m--> \u001b[39m\u001b[32m155\u001b[39m \u001b[38;5;28;01mfor\u001b[39;00m f \u001b[38;5;129;01min\u001b[39;00m files: \u001b[43mnb_export\u001b[49m\u001b[43m(\u001b[49m\u001b[43mf\u001b[49m\u001b[43m,\u001b[49m\u001b[43m \u001b[49m\u001b[43mprocs\u001b[49m\u001b[43m=\u001b[49m\u001b[43mprocs\u001b[49m\u001b[43m)\u001b[49m\n\u001b[32m    156\u001b[39m add_init(get_config().lib_path)\n\u001b[32m    157\u001b[39m _build_modidx()\n",
      "\u001b[36mFile \u001b[39m\u001b[32m~/WebDev/Flowbite/.venv/lib/python3.12/site-packages/nbdev/export.py:81\u001b[39m, in \u001b[36mnb_export\u001b[39m\u001b[34m(nbname, lib_path, procs, name, mod_maker, debug, solo_nb)\u001b[39m\n\u001b[32m     79\u001b[39m \u001b[38;5;28;01mif\u001b[39;00m lib_path \u001b[38;5;129;01mis\u001b[39;00m \u001b[38;5;28;01mNone\u001b[39;00m: lib_path = get_config().lib_path \u001b[38;5;28;01mif\u001b[39;00m is_nbdev() \u001b[38;5;28;01melse\u001b[39;00m \u001b[33m'\u001b[39m\u001b[33m.\u001b[39m\u001b[33m'\u001b[39m\n\u001b[32m     80\u001b[39m exp = ExportModuleProc()\n\u001b[32m---> \u001b[39m\u001b[32m81\u001b[39m nb = \u001b[43mNBProcessor\u001b[49m\u001b[43m(\u001b[49m\u001b[43mnbname\u001b[49m\u001b[43m,\u001b[49m\u001b[43m \u001b[49m\u001b[43m[\u001b[49m\u001b[43mexp\u001b[49m\u001b[43m]\u001b[49m\u001b[43m+\u001b[49m\u001b[43mL\u001b[49m\u001b[43m(\u001b[49m\u001b[43mprocs\u001b[49m\u001b[43m)\u001b[49m\u001b[43m,\u001b[49m\u001b[43m \u001b[49m\u001b[43mdebug\u001b[49m\u001b[43m=\u001b[49m\u001b[43mdebug\u001b[49m\u001b[43m)\u001b[49m\n\u001b[32m     82\u001b[39m nb.process()\n\u001b[32m     83\u001b[39m \u001b[38;5;28;01mfor\u001b[39;00m mod,cells \u001b[38;5;129;01min\u001b[39;00m exp.modules.items():\n",
      "\u001b[36mFile \u001b[39m\u001b[32m~/WebDev/Flowbite/.venv/lib/python3.12/site-packages/nbdev/process.py:95\u001b[39m, in \u001b[36mNBProcessor.__init__\u001b[39m\u001b[34m(self, path, procs, nb, debug, rm_directives, process)\u001b[39m\n\u001b[32m     94\u001b[39m \u001b[38;5;28;01mdef\u001b[39;00m\u001b[38;5;250m \u001b[39m\u001b[34m__init__\u001b[39m(\u001b[38;5;28mself\u001b[39m, path=\u001b[38;5;28;01mNone\u001b[39;00m, procs=\u001b[38;5;28;01mNone\u001b[39;00m, nb=\u001b[38;5;28;01mNone\u001b[39;00m, debug=\u001b[38;5;28;01mFalse\u001b[39;00m, rm_directives=\u001b[38;5;28;01mTrue\u001b[39;00m, process=\u001b[38;5;28;01mFalse\u001b[39;00m):\n\u001b[32m---> \u001b[39m\u001b[32m95\u001b[39m     \u001b[38;5;28mself\u001b[39m.nb = \u001b[43mread_nb\u001b[49m\u001b[43m(\u001b[49m\u001b[43mpath\u001b[49m\u001b[43m)\u001b[49m \u001b[38;5;28;01mif\u001b[39;00m nb \u001b[38;5;129;01mis\u001b[39;00m \u001b[38;5;28;01mNone\u001b[39;00m \u001b[38;5;28;01melse\u001b[39;00m nb\n\u001b[32m     96\u001b[39m     \u001b[38;5;28mself\u001b[39m.lang = nb_lang(\u001b[38;5;28mself\u001b[39m.nb)\n\u001b[32m     97\u001b[39m     \u001b[38;5;28;01mfor\u001b[39;00m cell \u001b[38;5;129;01min\u001b[39;00m \u001b[38;5;28mself\u001b[39m.nb.cells: cell.directives_ = extract_directives(cell, remove=rm_directives, lang=\u001b[38;5;28mself\u001b[39m.lang)\n",
      "\u001b[36mFile \u001b[39m\u001b[32m~/WebDev/Flowbite/.venv/lib/python3.12/site-packages/execnb/nbio.py:59\u001b[39m, in \u001b[36mread_nb\u001b[39m\u001b[34m(path)\u001b[39m\n\u001b[32m     57\u001b[39m \u001b[38;5;28;01mdef\u001b[39;00m\u001b[38;5;250m \u001b[39m\u001b[34mread_nb\u001b[39m(path):\n\u001b[32m     58\u001b[39m     \u001b[33m\"\u001b[39m\u001b[33mReturn notebook at `path`\u001b[39m\u001b[33m\"\u001b[39m\n\u001b[32m---> \u001b[39m\u001b[32m59\u001b[39m     res = dict2nb(\u001b[43m_read_json\u001b[49m\u001b[43m(\u001b[49m\u001b[43mpath\u001b[49m\u001b[43m,\u001b[49m\u001b[43m \u001b[49m\u001b[43mencoding\u001b[49m\u001b[43m=\u001b[49m\u001b[33;43m'\u001b[39;49m\u001b[33;43mutf-8\u001b[39;49m\u001b[33;43m'\u001b[39;49m\u001b[43m)\u001b[49m)\n\u001b[32m     60\u001b[39m     res[\u001b[33m'\u001b[39m\u001b[33mpath_\u001b[39m\u001b[33m'\u001b[39m] = \u001b[38;5;28mstr\u001b[39m(path)\n\u001b[32m     61\u001b[39m     \u001b[38;5;28;01mreturn\u001b[39;00m res\n",
      "\u001b[36mFile \u001b[39m\u001b[32m~/WebDev/Flowbite/.venv/lib/python3.12/site-packages/execnb/nbio.py:18\u001b[39m, in \u001b[36m_read_json\u001b[39m\u001b[34m(self, encoding, errors)\u001b[39m\n\u001b[32m     17\u001b[39m \u001b[38;5;28;01mdef\u001b[39;00m\u001b[38;5;250m \u001b[39m\u001b[34m_read_json\u001b[39m(\u001b[38;5;28mself\u001b[39m, encoding=\u001b[38;5;28;01mNone\u001b[39;00m, errors=\u001b[38;5;28;01mNone\u001b[39;00m):\n\u001b[32m---> \u001b[39m\u001b[32m18\u001b[39m     \u001b[38;5;28;01mreturn\u001b[39;00m \u001b[43mloads\u001b[49m\u001b[43m(\u001b[49m\u001b[43mPath\u001b[49m\u001b[43m(\u001b[49m\u001b[38;5;28;43mself\u001b[39;49m\u001b[43m)\u001b[49m\u001b[43m.\u001b[49m\u001b[43mread_text\u001b[49m\u001b[43m(\u001b[49m\u001b[43mencoding\u001b[49m\u001b[43m=\u001b[49m\u001b[43mencoding\u001b[49m\u001b[43m,\u001b[49m\u001b[43m \u001b[49m\u001b[43merrors\u001b[49m\u001b[43m=\u001b[49m\u001b[43merrors\u001b[49m\u001b[43m)\u001b[49m\u001b[43m)\u001b[49m\n",
      "\u001b[36mFile \u001b[39m\u001b[32m~/.local/share/uv/python/cpython-3.12.7-linux-x86_64-gnu/lib/python3.12/json/__init__.py:346\u001b[39m, in \u001b[36mloads\u001b[39m\u001b[34m(s, cls, object_hook, parse_float, parse_int, parse_constant, object_pairs_hook, **kw)\u001b[39m\n\u001b[32m    341\u001b[39m     s = s.decode(detect_encoding(s), \u001b[33m'\u001b[39m\u001b[33msurrogatepass\u001b[39m\u001b[33m'\u001b[39m)\n\u001b[32m    343\u001b[39m \u001b[38;5;28;01mif\u001b[39;00m (\u001b[38;5;28mcls\u001b[39m \u001b[38;5;129;01mis\u001b[39;00m \u001b[38;5;28;01mNone\u001b[39;00m \u001b[38;5;129;01mand\u001b[39;00m object_hook \u001b[38;5;129;01mis\u001b[39;00m \u001b[38;5;28;01mNone\u001b[39;00m \u001b[38;5;129;01mand\u001b[39;00m\n\u001b[32m    344\u001b[39m         parse_int \u001b[38;5;129;01mis\u001b[39;00m \u001b[38;5;28;01mNone\u001b[39;00m \u001b[38;5;129;01mand\u001b[39;00m parse_float \u001b[38;5;129;01mis\u001b[39;00m \u001b[38;5;28;01mNone\u001b[39;00m \u001b[38;5;129;01mand\u001b[39;00m\n\u001b[32m    345\u001b[39m         parse_constant \u001b[38;5;129;01mis\u001b[39;00m \u001b[38;5;28;01mNone\u001b[39;00m \u001b[38;5;129;01mand\u001b[39;00m object_pairs_hook \u001b[38;5;129;01mis\u001b[39;00m \u001b[38;5;28;01mNone\u001b[39;00m \u001b[38;5;129;01mand\u001b[39;00m \u001b[38;5;129;01mnot\u001b[39;00m kw):\n\u001b[32m--> \u001b[39m\u001b[32m346\u001b[39m     \u001b[38;5;28;01mreturn\u001b[39;00m \u001b[43m_default_decoder\u001b[49m\u001b[43m.\u001b[49m\u001b[43mdecode\u001b[49m\u001b[43m(\u001b[49m\u001b[43ms\u001b[49m\u001b[43m)\u001b[49m\n\u001b[32m    347\u001b[39m \u001b[38;5;28;01mif\u001b[39;00m \u001b[38;5;28mcls\u001b[39m \u001b[38;5;129;01mis\u001b[39;00m \u001b[38;5;28;01mNone\u001b[39;00m:\n\u001b[32m    348\u001b[39m     \u001b[38;5;28mcls\u001b[39m = JSONDecoder\n",
      "\u001b[36mFile \u001b[39m\u001b[32m~/.local/share/uv/python/cpython-3.12.7-linux-x86_64-gnu/lib/python3.12/json/decoder.py:337\u001b[39m, in \u001b[36mJSONDecoder.decode\u001b[39m\u001b[34m(self, s, _w)\u001b[39m\n\u001b[32m    332\u001b[39m \u001b[38;5;28;01mdef\u001b[39;00m\u001b[38;5;250m \u001b[39m\u001b[34mdecode\u001b[39m(\u001b[38;5;28mself\u001b[39m, s, _w=WHITESPACE.match):\n\u001b[32m    333\u001b[39m \u001b[38;5;250m    \u001b[39m\u001b[33;03m\"\"\"Return the Python representation of ``s`` (a ``str`` instance\u001b[39;00m\n\u001b[32m    334\u001b[39m \u001b[33;03m    containing a JSON document).\u001b[39;00m\n\u001b[32m    335\u001b[39m \n\u001b[32m    336\u001b[39m \u001b[33;03m    \"\"\"\u001b[39;00m\n\u001b[32m--> \u001b[39m\u001b[32m337\u001b[39m     obj, end = \u001b[38;5;28;43mself\u001b[39;49m\u001b[43m.\u001b[49m\u001b[43mraw_decode\u001b[49m\u001b[43m(\u001b[49m\u001b[43ms\u001b[49m\u001b[43m,\u001b[49m\u001b[43m \u001b[49m\u001b[43midx\u001b[49m\u001b[43m=\u001b[49m\u001b[43m_w\u001b[49m\u001b[43m(\u001b[49m\u001b[43ms\u001b[49m\u001b[43m,\u001b[49m\u001b[43m \u001b[49m\u001b[32;43m0\u001b[39;49m\u001b[43m)\u001b[49m\u001b[43m.\u001b[49m\u001b[43mend\u001b[49m\u001b[43m(\u001b[49m\u001b[43m)\u001b[49m\u001b[43m)\u001b[49m\n\u001b[32m    338\u001b[39m     end = _w(s, end).end()\n\u001b[32m    339\u001b[39m     \u001b[38;5;28;01mif\u001b[39;00m end != \u001b[38;5;28mlen\u001b[39m(s):\n",
      "\u001b[36mFile \u001b[39m\u001b[32m~/.local/share/uv/python/cpython-3.12.7-linux-x86_64-gnu/lib/python3.12/json/decoder.py:353\u001b[39m, in \u001b[36mJSONDecoder.raw_decode\u001b[39m\u001b[34m(self, s, idx)\u001b[39m\n\u001b[32m    344\u001b[39m \u001b[38;5;250m\u001b[39m\u001b[33;03m\"\"\"Decode a JSON document from ``s`` (a ``str`` beginning with\u001b[39;00m\n\u001b[32m    345\u001b[39m \u001b[33;03ma JSON document) and return a 2-tuple of the Python\u001b[39;00m\n\u001b[32m    346\u001b[39m \u001b[33;03mrepresentation and the index in ``s`` where the document ended.\u001b[39;00m\n\u001b[32m   (...)\u001b[39m\u001b[32m    350\u001b[39m \n\u001b[32m    351\u001b[39m \u001b[33;03m\"\"\"\u001b[39;00m\n\u001b[32m    352\u001b[39m \u001b[38;5;28;01mtry\u001b[39;00m:\n\u001b[32m--> \u001b[39m\u001b[32m353\u001b[39m     obj, end = \u001b[38;5;28;43mself\u001b[39;49m\u001b[43m.\u001b[49m\u001b[43mscan_once\u001b[49m\u001b[43m(\u001b[49m\u001b[43ms\u001b[49m\u001b[43m,\u001b[49m\u001b[43m \u001b[49m\u001b[43midx\u001b[49m\u001b[43m)\u001b[49m\n\u001b[32m    354\u001b[39m \u001b[38;5;28;01mexcept\u001b[39;00m \u001b[38;5;167;01mStopIteration\u001b[39;00m \u001b[38;5;28;01mas\u001b[39;00m err:\n\u001b[32m    355\u001b[39m     \u001b[38;5;28;01mraise\u001b[39;00m JSONDecodeError(\u001b[33m\"\u001b[39m\u001b[33mExpecting value\u001b[39m\u001b[33m\"\u001b[39m, s, err.value) \u001b[38;5;28;01mfrom\u001b[39;00m\u001b[38;5;250m \u001b[39m\u001b[38;5;28;01mNone\u001b[39;00m\n",
      "\u001b[31mJSONDecodeError\u001b[39m: Invalid control character at: line 24 column 33 (char 499)"
     ]
    }
   ],
   "source": [
    "#| hide\n",
    "import nbdev; nbdev.nbdev_export()"
   ]
  }
 ],
 "metadata": {
  "kernelspec": {
   "display_name": "python3",
   "language": "python",
   "name": "python3"
  }
 },
 "nbformat": 4,
 "nbformat_minor": 2
}

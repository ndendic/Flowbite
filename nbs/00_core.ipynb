{
 "cells": [
  {
   "cell_type": "markdown",
   "metadata": {},
   "source": [
    "# core\n",
    "\n",
    "> Fill in a module description here"
   ]
  },
  {
   "cell_type": "code",
   "execution_count": 17,
   "metadata": {},
   "outputs": [],
   "source": [
    "#| default_exp core"
   ]
  },
  {
   "cell_type": "code",
   "execution_count": 18,
   "metadata": {},
   "outputs": [],
   "source": [
    "#| hide\n",
    "#| export\n",
    "from enum import Enum, auto\n",
    "from fastcore.all import *"
   ]
  },
  {
   "cell_type": "code",
   "execution_count": 19,
   "metadata": {},
   "outputs": [],
   "source": [
    "#| hide\n",
    "from nbdev.showdoc import show_doc\n",
    "show_doc = partial(show_doc, title_level=4)"
   ]
  },
  {
   "cell_type": "code",
   "execution_count": 20,
   "metadata": {},
   "outputs": [],
   "source": [
    "#| export\n",
    "fastbite_hdrs = (\n",
    "    Link(\n",
    "        rel=\"stylesheet\",\n",
    "        href=\"https://cdn.jsdelivr.net/npm/flowbite@3.1.2/dist/flowbite.min.css\",\n",
    "    ),\n",
    "    Script(src='https://unpkg.com/lucide@latest'),\n",
    "    Script(\n",
    "        \"if (localStorage.getItem('color-theme') === 'dark' || (!('color-theme' in localStorage) && window.matchMedia('(prefers-color-scheme: dark)').matches)) {\\r\\n        document.documentElement.classList.add('dark');\\r\\n    } else {\\r\\n        document.documentElement.classList.remove('dark')\\r\\n    }\"\n",
    "    ),\n",
    "    Script(src='https://cdn.jsdelivr.net/npm/simple-datatables@9.0.3', type='text/javascript')\n",
    ")\n",
    "\n",
    "fastbite_ftrs = [\n",
    "    Script(src=\"https://cdn.jsdelivr.net/npm/flowbite@3.1.2/dist/flowbite.min.js\"), \n",
    "    Script(\"\"\"\n",
    "    document.addEventListener('DOMContentLoaded', function() {\n",
    "        // Theme toggle functionality\n",
    "        var themeToggleDarkIcon = document.getElementById('theme-toggle-dark-icon');\n",
    "        var themeToggleLightIcon = document.getElementById('theme-toggle-light-icon');\n",
    "        var themeToggleBtn = document.getElementById('theme-toggle');\n",
    "        \n",
    "        // Function to update icon visibility\n",
    "        function updateThemeToggleIcons() {\n",
    "            if (document.documentElement.classList.contains('dark')) {\n",
    "                themeToggleLightIcon.classList.remove('hidden');\n",
    "                themeToggleDarkIcon.classList.add('hidden');\n",
    "            } else {\n",
    "                themeToggleLightIcon.classList.add('hidden');\n",
    "                themeToggleDarkIcon.classList.remove('hidden');\n",
    "            }\n",
    "        }\n",
    "\n",
    "        // Set initial state based on localStorage or system preference\n",
    "        if (localStorage.getItem('color-theme') === 'dark' || \n",
    "            (!('color-theme' in localStorage) && window.matchMedia('(prefers-color-scheme: dark)').matches)) {\n",
    "            document.documentElement.classList.add('dark');\n",
    "        } else {\n",
    "            document.documentElement.classList.remove('dark');\n",
    "        }\n",
    "        \n",
    "        // Update icons based on initial state\n",
    "        updateThemeToggleIcons();\n",
    "        \n",
    "        // Handle theme toggle button click\n",
    "        if (themeToggleBtn) {\n",
    "            themeToggleBtn.addEventListener('click', function() {\n",
    "                // Toggle dark class on the html element\n",
    "                document.documentElement.classList.toggle('dark');\n",
    "                \n",
    "                // Update localStorage based on current state\n",
    "                if (document.documentElement.classList.contains('dark')) {\n",
    "                    localStorage.setItem('color-theme', 'dark');\n",
    "                } else {\n",
    "                    localStorage.setItem('color-theme', 'light');\n",
    "                }\n",
    "                \n",
    "                // Update icon visibility\n",
    "                updateThemeToggleIcons();\n",
    "            });\n",
    "        }\n",
    "        \n",
    "        // Listen for system preference changes\n",
    "        window.matchMedia('(prefers-color-scheme: dark)').addEventListener('change', function(e) {\n",
    "            if (!localStorage.getItem('color-theme')) {\n",
    "                if (e.matches) {\n",
    "                    document.documentElement.classList.add('dark');\n",
    "                } else {\n",
    "                    document.documentElement.classList.remove('dark');\n",
    "                }\n",
    "                updateThemeToggleIcons();\n",
    "            }\n",
    "        });\n",
    "    });\n",
    "    \"\"\"),\n",
    "    Script(\"\"\"\n",
    "        function setTheme(theme) {\n",
    "            document.documentElement.setAttribute('data-theme', theme);\n",
    "            localStorage.setItem('theme', theme);\n",
    "        }\n",
    "\n",
    "        // On page load, set the theme based on localStorage\n",
    "        const savedTheme = localStorage.getItem('theme') || 'none';\n",
    "        document.documentElement.setAttribute('data-theme', savedTheme);\n",
    "        \"\"\"\n",
    "    ),\n",
    "    ]"
   ]
  },
  {
   "cell_type": "code",
   "execution_count": 21,
   "metadata": {},
   "outputs": [],
   "source": [
    "#| export\n",
    "# need a better name, stringify might be too general for what it does \n",
    "def stringify(o # String, Tuple, or Enum options we want stringified\n",
    "             ): # String that can be passed FT comp args (such as `cls=`)\n",
    "    \"Converts input types into strings that can be passed to FT components\"  \n",
    "    if is_listy(o): return ' '.join(map(str,o)) if o else \"\"\n",
    "    return o.__str__()\n",
    "\n",
    "def str2cls(base: str, txt: str) -> str:\n",
    "    \"\"\"Convert base and text into a class name\"\"\"\n",
    "    return f\"{base}-{txt.replace('_', '-')}\".strip('-')"
   ]
  },
  {
   "cell_type": "code",
   "execution_count": 22,
   "metadata": {},
   "outputs": [],
   "source": [
    "assert stringify('abc') == 'abc'\n",
    "assert stringify(('abc','def')) == 'abc def'\n",
    "assert 'bg-blue-500' + stringify(()) == 'bg-blue-500'\n",
    "assert 'bg-blue-500 ' + stringify(\"\") == 'bg-blue-500 '"
   ]
  },
  {
   "cell_type": "code",
   "execution_count": 23,
   "metadata": {},
   "outputs": [],
   "source": [
    "#| export\n",
    "class VEnum(Enum):\n",
    "    def __str__(self): return self.value\n",
    "    def __add__(self, other): return stringify((self,other))\n",
    "    def __radd__(self, other): return stringify((other,self))"
   ]
  },
  {
   "cell_type": "code",
   "execution_count": 24,
   "metadata": {},
   "outputs": [],
   "source": [
    "#| hide\n",
    "import nbdev; nbdev.nbdev_export()"
   ]
  }
 ],
 "metadata": {
  "kernelspec": {
   "display_name": ".venv",
   "language": "python",
   "name": "python3"
  },
  "language_info": {
   "codemirror_mode": {
    "name": "ipython",
    "version": 3
   },
   "file_extension": ".py",
   "mimetype": "text/x-python",
   "name": "python",
   "nbconvert_exporter": "python",
   "pygments_lexer": "ipython3",
   "version": "3.12.9"
  }
 },
 "nbformat": 4,
 "nbformat_minor": 4
}
